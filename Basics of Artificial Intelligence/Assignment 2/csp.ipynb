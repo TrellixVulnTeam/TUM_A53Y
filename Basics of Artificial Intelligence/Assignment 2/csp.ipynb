{
 "cells": [
  {
   "cell_type": "markdown",
   "metadata": {},
   "source": [
    "# Programming Exercise 2: Constraint Satisfaction Problem"
   ]
  },
  {
   "cell_type": "markdown",
   "metadata": {},
   "source": [
    "## Your task\n",
    "This programming exercise is comprised of two parts: \n",
    "1) Demo notebook (`csp_demo.ipynb`): a demonstration on how to use the solver powered by the aima-python project to solve basic constraint satisfaction problems \\\n",
    "2) **This Exercise notebook (`csp.ipynb`): notebook to implement and submit your solution for the CSP programming exercise \"Student Presentation\"**\n",
    "\n"
   ]
  },
  {
   "cell_type": "markdown",
   "metadata": {},
   "source": [
    "**Programming Framework**:\n",
    "\n",
    "For this programming exercise Jupyter Notebooks will be used. The template for the exercise can be\n",
    "found in ARTEMIS. Since you have to model the constraint satisfaction problem, programming skills in\n",
    "Python lambdas, lists and dictionaries are necessary to complete this exercise. The following steps are\n",
    "required to correctly set up the environment for the programming exercise:\n",
    "1. **Installation of Anaconda and Download of the AIMA python code**: If you do not already\n",
    "have the Jupyter Notebook environment installed on your machine, the installation is the first\n",
    "step you have to perform. We recommend to install via Anaconda, since this will set up the whole\n",
    "environment for you. The template for the programming exercise is based on the code from the\n",
    "AIMAcode project. Therefore, you first have to download the code from this project before the\n",
    "template can be used. Instructions for installation of Anaconda and AIMA python code can be found in \"AIMA Code Installation Instructions\" on Moodle (see task description).\n",
    "2. **Pull of the template**: Pull the repository with the template from ARTEMIS. To avoid issues\n",
    "with the relative file paths, we recommend to copy all files contained in the template into the\n",
    "root directory of the AIMAcode project that you downloaded in the previous step.\n",
    "                                                                                         \n",
    "After completing the above steps, you are all set up to start with the exercise. **The main function of\n",
    "the template is the Jupyter Notebook csp.ipynb.** Your task is to model the Student Presentation problem. \n",
    "\n",
    "                                                                                         \n",
    "**Submission:**\n",
    "\n",
    "For submission, you have to upload the following files in ARTEMIS:\n",
    "1. Copy **`csp.ipynb`** (notebook containing your solution for modelling the Student Presentation problem) to the pulled repository.\n",
    "2. Add and commit the modified notebook, and push it to ARTEMIS.\n",
    "\n",
    "**A pass will be awarded only if:**\n",
    "1. you submitted the **correct file** with the **correct name**, as shown above.\n",
    "2. you **did not zip** your file.\n",
    "3. you **pushed your files to your ARTEMIS branch.**\n",
    "4. you **did not change the variable names** provided by us within the template.\n",
    "5. your submitted files can be run in an Anaconda environment (Python 3.7) with the packages provided by the requirements.txt in the aima repository, the utils.py, the search.py and the csp_programming_exercise.py\n",
    "provided by us **within a reasonable time (under 5 minutes).**\n",
    "6. the problem has been modelled correctly using the NaryCSP class from the module\n",
    "csp programming exercise.\n",
    "7. like the rest of the programming exercises, this is an individual project and you **must** finish the task on your own. (We will use a plagiarism detection tool and any copied code will annul all bonus exercises\n",
    "from both the copier and the copied person!)\n",
    "\n",
    "Submission will close on <b><font color='red'>Friday, 24.12.2021 at 23:59</font></b>. Your solution will be graded by ARTEMIS.\n",
    "There will be feedback on formatting errors and rightly solved CSP. Nonetheless, it is very important to\n",
    "follow the instructions exactly!\n",
    "\n",
    "We offer preliminary checks of your solution and ARTEMIS will show your progress. You can submit\n",
    "your solution multiple times and get feedback for each submission. Your final submission will be checked.\n",
    "We award 1 point if all checks including plagiarism pass.\n",
    "                                                                                         \n",
    "\n",
    "\n",
    "<div class=\"alert alert-info\">\n",
    "    <h3>Please read the following important information before starting with the programming exercise: </h3>\n",
    "    <p>In order to avoid problems with the relative file path we recommend to <b>place all provided files</b> in the rootfolder of your <b>aima repository</b>.</p> \n",
    "    <p>Do not use/install any additional packages, which are not provided in the requirements.txt of the  <b>aima repository</b>. </p>\n",
    "    <p>For modelling the constraint satisfaction problem you will have to define some variables. <b>Do not change the names of variables that we provided you!</b> Since we use these variables for an automatic evaluation, changing  variable names will result in failing the programming exercise. </p>\n",
    "    <p><b>Do not modify</b> the example with the TWO + TWO = FOUR problem!</p>\n",
    "    <p><b>Do not modify</b> the csp_programming_exercise.py!</p>\n",
    "    <p>If we are not able to run your submitted files in an environment with the packages provided by the requirements.txt of the <b>aima repository</b>, you will fail the programming exercise.</p>\n",
    "    \n",
    "</div>"
   ]
  },
  {
   "cell_type": "markdown",
   "metadata": {},
   "source": [
    "**Task description:**\n",
    "\n",
    "The course **Techniques in Artificial Intelligence** plans to invite 8 students to give presentations of 4 different topics to help others better understand the abstract theoretical knowledge. The topics are: CommonRoad (CR), Constraint Satisfaction Problem (CSP), Logic and Hidden Markov Model (HMM). 8 volunteers will participate in this event: Alice, Bill, Carol, Daniel, Edith, Frank, Grace, Harry. Every volunteer can take part in **at most** 1 presentation.\n",
    "Different time budget will be allocated to students according to different topic:\n",
    "\n",
    "• CR: 15min/presenter\\\n",
    "• CSP: 8min/presenter\\\n",
    "• Logic: 12min/presenter\\\n",
    "• HMM: 10min/presenter\n",
    "\n",
    "Note that these are merely 4 topics planned, which don't necessarily have to take place all. Which topic(s) is/are actually going to be presented depend(s) on the given constraints. Now consider the following constraints:\n",
    "\n",
    "1.\tThe topic CR is complex so that it requires at least 3 presenters, if it is to be presented \n",
    "2.\tThe topic CSP requires at most 2 presenters, if it is to be presented\n",
    "3.\tThe topic Logic requires 1-2 presenters, if it is to be presented\n",
    "4.\tThe topic HMM requires 2-3 presenters , if it is to be presented\n",
    "5.\tAlice doesn't present alone. She doesn't want to present with Edith either\n",
    "6.\tAlice and Bill don't want to present the topic CSP\n",
    "7.\tCarol and Daniel are a couple so they want to present together\n",
    "8.\tEdith, Frank and Grace will not present together (neither wants to work with any of the other two)\n",
    "9.\tGrace and Harry love challenges so they want to present the topic CR\n",
    "10.\tCarol and Harry are good friends and want to present together\n",
    "11.\tBill, Daniel and Edith are in a study group so they want to present as a team\n",
    "12.\tAlice is the “Tandem” of  Frank so they want to work on the same topic\n",
    "13.\tBill wants to present the topic Logic\n",
    "14.\tConsidering the limited time of the lecture, the total presentation time shall not exceed 90 min \n",
    "15.\tNo one will present alone\n",
    "16.\tAt least 3 topics should be presented\n",
    "17.\tAll topics should be presented\n",
    "\n",
    "Model the constraint satisfaction problem in Python. For each of the following subsets of constraints, find the solution, if it exists:\n",
    "\n",
    "Problem 2.1: { 1 – 10，13, 16 }\\\n",
    "Problem 2.2: { 1 – 5, 7 – 10, 17 }\\\n",
    "Problem 2.3: { 1 – 5, 9, 11，15, 16 } \\\n",
    "Problem 2.4: { 1 – 4, 6 – 10, 12, 16 }\\\n",
    "Problem 2.5: { 1 – 4, 9, 14 – 17 }\n",
    "\n",
    "Note that problem 2.5 may not be satisfied."
   ]
  },
  {
   "cell_type": "markdown",
   "metadata": {},
   "source": [
    "## Initialization"
   ]
  },
  {
   "cell_type": "code",
   "execution_count": 2,
   "metadata": {
    "scrolled": true
   },
   "outputs": [],
   "source": [
    "# Do not change this part.\n",
    "import sys, os\n",
    "import pathlib\n",
    "sys.path.append(pathlib.Path().absolute())\n",
    "from csp_programming_exercise import *"
   ]
  },
  {
   "cell_type": "markdown",
   "metadata": {},
   "source": [
    "### Constructing the Domain"
   ]
  },
  {
   "cell_type": "code",
   "execution_count": 3,
   "metadata": {},
   "outputs": [],
   "source": [
    "# Define your domain here\n",
    "domains_TF = {'Alice': set(['CR', 'CSP', 'Logic', 'HMM', None]),\n",
    "           'Bill': set(['CR', 'CSP', 'Logic', 'HMM', None]),\n",
    "           'Carol': set(['CR', 'CSP', 'Logic', 'HMM', None]),\n",
    "           'Daniel': set(['CR', 'CSP', 'Logic', 'HMM', None]),\n",
    "           'Edith': set(['CR', 'CSP', 'Logic', 'HMM', None]),\n",
    "           'Frank': set(['CR', 'CSP', 'Logic', 'HMM', None]),\n",
    "           'Grace': set(['CR', 'CSP', 'Logic', 'HMM', None]), \n",
    "           'Harry': set(['CR', 'CSP', 'Logic', 'HMM', None])\n",
    "}"
   ]
  },
  {
   "cell_type": "markdown",
   "metadata": {},
   "source": [
    "### Constructing the Constraints: Student Presentation in the Course AI"
   ]
  },
  {
   "cell_type": "code",
   "execution_count": 4,
   "metadata": {},
   "outputs": [],
   "source": [
    "# Define you constraints here\n",
    "def count_topic_assignments(assignments, topic):\n",
    "    count = 0\n",
    "    for student in assignments:\n",
    "        if student == topic:\n",
    "            count += 1\n",
    "    return count\n",
    "\n",
    "def all_topic_assignments(assignments):\n",
    "    count= len(list(set(assignments)))   #return count of distinct values\n",
    "    if None in assignments:\n",
    "        count -= 1\n",
    "    return count\n",
    "\n",
    "def total_time_calculation(assignments):\n",
    "    total_time = 0\n",
    "    for assg in assignments:\n",
    "        if assg == 'CR':\n",
    "            total_time += 15\n",
    "        elif assg == 'CSP':\n",
    "            total_time += 8\n",
    "        elif assg == 'HMM':\n",
    "            total_time += 10\n",
    "        elif assg == 'Logic':\n",
    "            total_time += 12\n",
    "    return total_time\n",
    "\n",
    "#C1\n",
    "constraint1_TF = Constraint(\n",
    "    ('Alice', 'Bill', 'Carol', 'Daniel', 'Edith', 'Frank', 'Grace', 'Harry'), \n",
    "    lambda a,b,c,d,e,f,g,h: count_topic_assignments([a,b,c,d,e,f,g,h], 'CR') in [0,3,4,5,6,7,8])\n",
    "\n",
    "#C2\n",
    "constraint2_TF = Constraint(\n",
    "    ('Alice', 'Bill', 'Carol', 'Daniel', 'Edith', 'Frank', 'Grace', 'Harry'), \n",
    "    lambda a,b,c,d,e,f,g,h: count_topic_assignments([a,b,c,d,e,f,g,h], 'CSP') in [0,1,2])\n",
    "\n",
    "#C3\n",
    "constraint3_TF = Constraint(\n",
    "    ('Alice', 'Bill', 'Carol', 'Daniel', 'Edith', 'Frank', 'Grace', 'Harry'), \n",
    "    lambda a,b,c,d,e,f,g,h: count_topic_assignments([a,b,c,d,e,f,g,h], 'Logic') in [0,1,2])\n",
    "\n",
    "#C4\n",
    "constraint4_TF = Constraint(\n",
    "    ('Alice', 'Bill', 'Carol', 'Daniel', 'Edith', 'Frank', 'Grace', 'Harry'), \n",
    "    lambda a,b,c,d,e,f,g,h: count_topic_assignments([a,b,c,d,e,f,g,h], 'HMM') in [0,2,3])\n",
    "\n",
    "#C5\n",
    "constraint5_TF = Constraint(\n",
    "    ('Alice', 'Bill', 'Carol', 'Daniel', 'Edith', 'Frank', 'Grace', 'Harry'), \n",
    "    lambda a,b,c,d,e,f,g,h: False if \n",
    "    ((a == 'CR' and b != 'CR' and c != 'CR' and d != 'CR' and e != 'CR' and f != 'CR' and g != 'CR' and h != 'CR') or\n",
    "     (a == 'CSP' and b != 'CSP' and c != 'CSP' and d != 'CSP' and e != 'CSP' and f != 'CSP' and g != 'CSP' and h != 'CSP') or\n",
    "     (a == 'Logic' and b != 'Logic' and c != 'Logic' and d != 'Logic' and e != 'Logic' and f != 'Logic' and g != 'Logic' and h != 'Logic') or \n",
    "     (a == 'HMM' and b != 'HMM' and c != 'HMM' and d != 'HMM' and e != 'HMM' and f != 'HMM' and g != 'HMM' and h != 'HMM') \n",
    "     or (a == e and a != None and e != None)\n",
    "    ) else True)\n",
    "#constraint5_2_TF = Constraint(('Alice', 'Edith'), all_diff)\n",
    "#C6\n",
    "constraint6_TF = Constraint(('Alice', 'Bill'), lambda a,b: a != 'CSP' and b != 'CSP')\n",
    "#C6,13\n",
    "constraint6_13TF = Constraint(('Alice', 'Bill'), lambda a,b: a != 'CSP' and b == 'Logic')\n",
    "#C7\n",
    "constraint7_TF = Constraint(('Carol', 'Daniel'), eq)\n",
    "#C8\n",
    "constraint8_TF = Constraint(('Edith', 'Frank', 'Grace'), all_diff)\n",
    "                            \n",
    "\"\"\"\n",
    "lambda e,f,g:  \n",
    "True if ((f==None and e==None and g==None) or \n",
    "         (f==None and e!=g) or (e==None and f!=g) or \n",
    "         (g==None and e!=f)) else False)\n",
    "\"\"\"\n",
    "#C9\n",
    "constraint9_TF = Constraint(\n",
    "    ('Grace', 'Harry'),  lambda g,h: g == 'CR' and h == 'CR')\n",
    "#C10\n",
    "constraint10_TF = Constraint(('Carol', 'Harry'), eq)\n",
    "#C11\n",
    "constraint11_TF = Constraint(('Bill', 'Daniel', 'Edith'), lambda b,d,e: b==d and d==e)\n",
    "#C12\n",
    "constraint12_TF = Constraint(('Alice', 'Frank'),eq)#lambda a,f: a==f and a!=None and f!=None\n",
    "#C13\n",
    "constraint13_TF = Constraint(\n",
    "    ('Bill',),  lambda b: b == 'Logic')\n",
    "#C14\n",
    "constraint14_TF = Constraint(\n",
    "    ('Alice', 'Bill', 'Carol', 'Daniel', 'Edith', 'Frank', 'Grace', 'Harry'), \n",
    "    lambda a,b,c,d,e,f,g,h: total_time_calculation([a,b,c,d,e,f,g,h]) <= 90)\n",
    "#C15\n",
    "constraint15_TF = Constraint(\n",
    "    ('Alice', 'Bill', 'Carol', 'Daniel', 'Edith', 'Frank', 'Grace', 'Harry'), \n",
    "    lambda a,b,c,d,e,f,g,h: (count_topic_assignments([a,b,c,d,e,f,g,h], 'CSP') != 1) and \n",
    "        (count_topic_assignments([a,b,c,d,e,f,g,h], 'CR') != 1) and \n",
    "        (count_topic_assignments([a,b,c,d,e,f,g,h], 'Logic') != 1) and \n",
    "        (count_topic_assignments([a,b,c,d,e,f,g,h], 'HMM') != 1) )\n",
    "#C16\n",
    "constraint16_TF = Constraint(\n",
    "    ('Alice', 'Bill', 'Carol', 'Daniel', 'Edith', 'Frank', 'Grace', 'Harry'), \n",
    "    lambda a,b,c,d,e,f,g,h: all_topic_assignments([a,b,c,d,e,f,g,h]) in [3,4])\n",
    "#C17\n",
    "constraint17_TF = Constraint(\n",
    "    ('Alice', 'Bill', 'Carol', 'Daniel', 'Edith', 'Frank', 'Grace', 'Harry'), \n",
    "    lambda a,b,c,d,e,f,g,h: all_topic_assignments([a,b,c,d,e,f,g,h]) == 4) \n",
    "\n",
    "\n"
   ]
  },
  {
   "cell_type": "markdown",
   "metadata": {},
   "source": [
    "### Combine the constraints and set up the CSPs for the different problems"
   ]
  },
  {
   "cell_type": "markdown",
   "metadata": {},
   "source": [
    "<div class=\"alert alert-danger\">\n",
    "    <p>The variables csp_1, csp_2, csp_3, csp_4, csp_5 are defined for setting up the CSPs for the corresponding problems. <b>You have to use these variable names otherwise this will result in failing the programming exercise.</b></p> \n",
    "</div>"
   ]
  },
  {
   "cell_type": "code",
   "execution_count": 5,
   "metadata": {},
   "outputs": [],
   "source": [
    "# Construct the Student Presentation Problems\n",
    "\n",
    "# Combine Constraints and set up the csp for Problem 2.1\n",
    "### YOUR CODE HERE ###\n",
    "\n",
    "csp_1 = NaryCSP(domains_TF, [constraint1_TF, constraint2_TF, constraint3_TF, constraint4_TF, constraint5_TF, \n",
    "                             constraint6_TF, constraint7_TF, constraint8_TF, constraint9_TF,\n",
    "                             constraint10_TF, constraint13_TF, constraint16_TF])\n",
    "\n",
    "\n",
    "\n",
    "# Combine Constraints and set up the csp for Problem 2.2\n",
    "### YOUR CODE HERE ###\n",
    "csp_2 = NaryCSP(domains_TF, [constraint1_TF, constraint2_TF, constraint3_TF, constraint4_TF, \n",
    "                             constraint5_TF, constraint7_TF, constraint8_TF, constraint9_TF, constraint10_TF,\n",
    "                             constraint17_TF])\n",
    "\n",
    "\n",
    "\n",
    "# # Combine Constraints and set up the csp for Problem 2.3\n",
    "### YOUR CODE HERE ###\n",
    "csp_3 = NaryCSP(domains_TF, [constraint1_TF, constraint2_TF, constraint3_TF, constraint4_TF, constraint5_TF, \n",
    "                             constraint9_TF, constraint11_TF, constraint15_TF, constraint16_TF])\n",
    "\n",
    "\n",
    "\n",
    "# # Combine Constraints and set up the csp for Problem 2.4\n",
    "### YOUR CODE HERE ###\n",
    "csp_4 = NaryCSP(domains_TF, [constraint1_TF, constraint2_TF, constraint3_TF, constraint4_TF, constraint6_TF, \n",
    "                             constraint7_TF, constraint8_TF, constraint9_TF, constraint10_TF, constraint12_TF,\n",
    "                             constraint16_TF])\n",
    "\n",
    "\n",
    "\n",
    "# # Combine Constraints and set up the csp for Problem 2.5\n",
    "### YOUR CODE HERE ###\n",
    "csp_5 = NaryCSP(domains_TF, [constraint1_TF, constraint2_TF, constraint3_TF, constraint4_TF, constraint9_TF, \n",
    "                              constraint14_TF, constraint15_TF, constraint16_TF, constraint17_TF])\n",
    "\n",
    "\n",
    "\n"
   ]
  },
  {
   "cell_type": "markdown",
   "metadata": {},
   "source": [
    "### Solving the CSP"
   ]
  },
  {
   "cell_type": "markdown",
   "metadata": {},
   "source": [
    "<div class=\"alert alert-danger\">\n",
    "    <p>Do not change the following cell. If you can't execute the following cell, you may have renamed the variables defined by us.</p> \n",
    "</div>"
   ]
  },
  {
   "cell_type": "code",
   "execution_count": 6,
   "metadata": {},
   "outputs": [
    {
     "name": "stdout",
     "output_type": "stream",
     "text": [
      "{'Alice': 'HMM', 'Bill': 'Logic', 'Carol': 'CR', 'Daniel': 'CR', 'Edith': None, 'Frank': 'HMM', 'Grace': 'CR', 'Harry': 'CR'}\n",
      "{'Alice': 'HMM', 'Bill': 'HMM', 'Carol': 'CR', 'Daniel': 'CR', 'Edith': 'Logic', 'Frank': 'CSP', 'Grace': 'CR', 'Harry': 'CR'}\n",
      "{'Alice': 'CSP', 'Bill': 'HMM', 'Carol': 'CSP', 'Daniel': 'HMM', 'Edith': 'HMM', 'Frank': 'CR', 'Grace': 'CR', 'Harry': 'CR'}\n",
      "{'Alice': 'HMM', 'Bill': 'HMM', 'Carol': 'CR', 'Daniel': 'CR', 'Edith': 'Logic', 'Frank': 'HMM', 'Grace': 'CR', 'Harry': 'CR'}\n",
      "None\n"
     ]
    }
   ],
   "source": [
    "# Do not change this part\n",
    "print(ac_search_solver(csp_1))\n",
    "print(ac_search_solver(csp_2))\n",
    "print(ac_search_solver(csp_3))\n",
    "print(ac_search_solver(csp_4))\n",
    "print(ac_search_solver(csp_5))"
   ]
  },
  {
   "cell_type": "code",
   "execution_count": null,
   "metadata": {},
   "outputs": [],
   "source": []
  }
 ],
 "metadata": {
  "celltoolbar": "Raw Cell Format",
  "kernelspec": {
   "display_name": "Python 3",
   "language": "python",
   "name": "python3"
  },
  "language_info": {
   "codemirror_mode": {
    "name": "ipython",
    "version": 3
   },
   "file_extension": ".py",
   "mimetype": "text/x-python",
   "name": "python",
   "nbconvert_exporter": "python",
   "pygments_lexer": "ipython3",
   "version": "3.7.1"
  }
 },
 "nbformat": 4,
 "nbformat_minor": 2
}