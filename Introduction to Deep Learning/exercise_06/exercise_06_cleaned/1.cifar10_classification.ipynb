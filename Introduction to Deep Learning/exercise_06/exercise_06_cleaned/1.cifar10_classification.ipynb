{
 "cells": [
  {
   "cell_type": "markdown",
   "metadata": {},
   "source": [
    "# Cifar10 Classification"
   ]
  },
  {
   "cell_type": "markdown",
   "metadata": {},
   "source": [
    "Until now, we have implemented several pieces of a deep learning pipeline and even trained a two-layer neural network, but all the hyperparameters were already set to some values yielding resonable results. In real-life problems, however, much of the work in a deep learning project will be geared towards finding the best hyperparameters for a certain problem. In this notebook we will explore some good practices for network debugging and hyperparameters search, as well as extending our previously binary classification neural network to a multi-class one.\n",
    "\n",
    "Let's go!"
   ]
  },
  {
   "cell_type": "code",
   "execution_count": 1,
   "metadata": {},
   "outputs": [],
   "source": [
    "# Some lengthy setup.\n",
    "import matplotlib.pyplot as plt\n",
    "import numpy as np\n",
    "import os\n",
    "\n",
    "from exercise_code.networks.layer import (\n",
    "    Sigmoid, \n",
    "    Relu, \n",
    "    LeakyRelu, \n",
    "    Tanh,\n",
    ")\n",
    "from exercise_code.data import (\n",
    "    DataLoader,\n",
    "    ImageFolderDataset,\n",
    "    RescaleTransform,\n",
    "    NormalizeTransform,\n",
    "    FlattenTransform,\n",
    "    ComposeTransform,\n",
    ")\n",
    "from exercise_code.data.image_folder_dataset import RandomHorizontalFlip\n",
    "from exercise_code.networks import (\n",
    "    ClassificationNet,\n",
    "    BCE,\n",
    "    CrossEntropyFromLogits\n",
    ")\n",
    "\n",
    "%load_ext autoreload\n",
    "%autoreload 2\n",
    "%matplotlib inline\n",
    "\n",
    "plt.rcParams['figure.figsize'] = (10.0, 8.0) # set default size of plots\n",
    "plt.rcParams['image.interpolation'] = 'nearest'\n",
    "plt.rcParams['image.cmap'] = 'gray'"
   ]
  },
  {
   "cell_type": "markdown",
   "metadata": {},
   "source": [
    "# 1. Quick recap (and some new things)"
   ]
  },
  {
   "cell_type": "markdown",
   "metadata": {},
   "source": [
    "Until now, in the previous exercises, we focused on building and understanding all the necessary modules for training a simple model. We followed the Pytorch implementations closely, as this is the framework we will use later and we want you to have a smoother transition to its APIs. \n",
    "\n",
    "In the figure below you can see the main components in Pytorch. Before starting the actual exercise, we begin with a quick recap of **our implementation** of these components. \n",
    "\n",
    "<div class=\"alert alert-success\">\n",
    "    <h3>Task: Check Code</h3>\n",
    "    <p>Everything is already implemented for this part, but we <b>strongly</b> encourage you to check out the respective source files in order to have a better understanding. </p>\n",
    "</div>"
   ]
  },
  {
   "cell_type": "markdown",
   "metadata": {},
   "source": [
    "<img src=\"https://cdn-images-1.medium.com/max/800/1*uZrS4KjAuSJQIJPgOiaJUg.png\" style=\"width: 500px;\">"
   ]
  },
  {
   "cell_type": "markdown",
   "metadata": {},
   "source": [
    "## 1.1 Dataset and Dataloader"
   ]
  },
  {
   "cell_type": "markdown",
   "metadata": {},
   "source": [
    "Data preparation represents an important part of deep learning projects. The data comes from different sources and in different formats and is prepared differently from application to application. One part, however, is clear: because entire datasets are usually too large for us to handle at once, we train our models on smaller batches of data. \n",
    "\n",
    "The goal of the ```Dataset``` class is to encapsulate all the 'dirty' data processing: loading and cleaning the data, storing features (or names of files where features can be found) and labels, as well as providing the means for accessing individual (transformed) items of the data using the ```__getitem__()``` function and an index. You already implemented an ```ImageFolderDataset``` (in ```exercise_code/data/image_folder_dataset.py```) class in Exercise 3. We we will reuse this class here.\n",
    "\n",
    "For processing the data, you implemented several transforms in Exercise 3 (```RescaleTransform```, ```NormalizeTransform```, ```ComposeTransform```). In this exercise we are working with images, which are multidimensional arrays, but we are using simple feedforward neural network which takes a one dimensional array as an input, so it is necessary to reshape the images before feeding them into the model. \n",
    "\n",
    "<div class=\"alert alert-success\">\n",
    "    <h3>Task: Check Code</h3>\n",
    "    <p>Please check the implementation of the reshape operation in the <code>FlattenTransform</code> class, which can be found in <code>../exercise_06/exercise_code/data/image_folder_dataset.py</code>. </p>\n",
    "</div>"
   ]
  },
  {
   "cell_type": "code",
   "execution_count": 2,
   "metadata": {},
   "outputs": [],
   "source": [
    "download_url = \"https://i2dl.vc.in.tum.de/static/data/cifar10.zip\"\n",
    "i2dl_exercises_path = os.path.dirname(os.path.abspath(os.getcwd()))\n",
    "cifar_root = os.path.join(i2dl_exercises_path, \"datasets\", \"cifar10\")\n",
    "\n",
    "# Use the Cifar10 mean and standard deviation computed in Exercise 3.\n",
    "cifar_mean = np.array([0.49191375, 0.48235852, 0.44673872])\n",
    "cifar_std  = np.array([0.24706447, 0.24346213, 0.26147554])\n",
    "\n",
    "# Define all the transforms we will apply on the images when \n",
    "# retrieving them.\n",
    "rescale_transform = RescaleTransform()\n",
    "normalize_transform = NormalizeTransform(\n",
    "    mean=cifar_mean,\n",
    "    std=cifar_std\n",
    ")\n",
    "flatten_transform = FlattenTransform()\n",
    "compose_transform = ComposeTransform([rescale_transform, \n",
    "                                      normalize_transform,\n",
    "                                      flatten_transform])\n",
    "\n",
    "# Create a train, validation and test dataset.\n",
    "datasets = {}\n",
    "for mode in ['train', 'val', 'test']:\n",
    "    crt_dataset = ImageFolderDataset(\n",
    "        mode=mode,\n",
    "        root=cifar_root, \n",
    "        download_url=download_url,\n",
    "        transform=compose_transform,\n",
    "        split={'train': 0.6, 'val': 0.2, 'test': 0.2}\n",
    "    )\n",
    "    datasets[mode] = crt_dataset"
   ]
  },
  {
   "cell_type": "markdown",
   "metadata": {},
   "source": [
    "Then, based on this ```Dataset``` object, we can construct a ```Dataloader``` object which samples a random mini-batch of data at once. "
   ]
  },
  {
   "cell_type": "code",
   "execution_count": 3,
   "metadata": {},
   "outputs": [],
   "source": [
    "# Create a dataloader for each split.\n",
    "dataloaders = {}\n",
    "for mode in ['train', 'val', 'test']:\n",
    "    crt_dataloader = DataLoader(\n",
    "        dataset=datasets[mode],\n",
    "        batch_size=256,\n",
    "        shuffle=True,\n",
    "        drop_last=True,\n",
    "    )\n",
    "    dataloaders[mode] = crt_dataloader"
   ]
  },
  {
   "cell_type": "markdown",
   "metadata": {},
   "source": [
    "Because the ```Dataloader``` has the ```__iter__()``` method, we can simply iterate through the batches it produces, like this:\n",
    "\n",
    "```python\n",
    "for batch in dataloader['train']:\n",
    "    do_something(batch)\n",
    "```"
   ]
  },
  {
   "cell_type": "markdown",
   "metadata": {},
   "source": [
    "## 1.2 Data Augmentation\n",
    "\n",
    "After the above preprocessing steps, our data is in a good shape and ready to be fed into our network. As explained in the chapter above, we used the transformation functions `RescaleTransform`, `NormalizeTransform` and `FlattenTransform` to achieve this shape. These are the general steps that you need to perform on the data before we can even start the training. Of course, all these steps have to be applied to all three splits of our dataset (train, val and test split). So in other words, preprocessing involves preparing the data before they are used in training and inference. \n",
    "\n",
    "Besides these basic transformations, there are many other transformation methods that you can apply to the images. For example, you can <b>flip the images horizontally</b> or <b>blur the image</b> and use these new images to enlarge your dataset. This idea is called Data Augmentation and it involves methods that alter the training images to generate a synthetic dataset that is larger than your original dataset and will hopefully improve the performance of your model. The purpose here is different than in the data preprocessing steps and there is one big difference between data augmentation and data preprocessing: The transformation methods to enlarge your dataset should only be applied to the training data. The validation and test data are not affected by these methods.\n",
    "\n",
    "<div class=\"alert alert-success\">\n",
    "    <h3>Task: Check Code</h3>\n",
    "    <p>The choice of transformation methods to use for data augmentation can be seen as a hyperparameter of your model and you can try to include these to enlarge your training data and obtain better results for your model. In <code>exercise_code/data/image_folder_dataset.py</code> we implemented the function <code>RandomHorizontalFlip</code> for you, which is randomly flipping an image. Check out the implementation.</p>\n",
    "    <p> Later, we will apply some hyperparameter tuning and in order to improve your model's accuracy, you could try to include some data augmentation methods. Fell free to play around and maybe also implement some other methods as for example Gaussian Blur or Rotation. </p>       \n",
    "</div>\n",
    "\n",
    "Let us quickly check out the `RandomHorizontalFlip` method with an image of the Cifar10 dataset in the following cell."
   ]
  },
  {
   "cell_type": "code",
   "execution_count": 4,
   "metadata": {},
   "outputs": [
    {
     "data": {
      "image/png": "[encoded data removed]",
      "text/plain": [
       "<Figure size 144x144 with 2 Axes>"
      ]
     },
     "metadata": {
      "needs_background": "light"
     },
     "output_type": "display_data"
    }
   ],
   "source": [
    "#Load the data in a dataset without any transformation \n",
    "dataset = ImageFolderDataset(\n",
    "        mode=mode,\n",
    "        root=cifar_root, \n",
    "        download_url=download_url,\n",
    "        split={'train': 0.6, 'val': 0.2, 'test': 0.2},\n",
    "    )\n",
    "\n",
    "#Retrieve an image from the dataset and flip it\n",
    "image = dataset[1]['image']\n",
    "transform = RandomHorizontalFlip(1)\n",
    "image_flipped = transform(image)\n",
    "\n",
    "#Show the two images\n",
    "plt.figure(figsize = (2,2))\n",
    "plt.subplot(1, 2, 1)\n",
    "plt.imshow(image.astype('uint8'))\n",
    "plt.axis('off')\n",
    "plt.subplot(1, 2, 2)\n",
    "plt.imshow(image_flipped.astype('uint8'))\n",
    "plt.axis('off')\n",
    "plt.title(\"Left: Original Image, Right: Flipped image\")\n",
    "plt.show()"
   ]
  },
  {
   "cell_type": "markdown",
   "metadata": {},
   "source": [
    "## 1.3 Layers\n",
    "\n",
    "Now, that the data is prepared, we can discuss the model in which we are feeding the data. In our case the model will be a neural network. \n",
    "\n",
    "In Exercise 5, you implemented a simple 2-layer neural network that had a hidden size as a parameter:\n",
    "\n",
    "$$ \n",
    "{\\hat{y}} = \\sigma(\\sigma({x W_1} + {b_1}) {W_2} + {b_2}) \n",
    "$$\n",
    "\n",
    "where $ \\sigma({x}) $ was the sigmoid function, $ {x} $ was the input, $ {W_1}, {W_2} $ the weight matrices and $ {b_1}, {b_2}$ the biases for the two layers.\n",
    "\n",
    "This is how we used this network:"
   ]
  },
  {
   "cell_type": "code",
   "execution_count": 5,
   "metadata": {},
   "outputs": [],
   "source": [
    "input_size = datasets['train'][0]['image'].shape[0]\n",
    "model = ClassificationNet(input_size=input_size, \n",
    "                          hidden_size=512)"
   ]
  },
  {
   "cell_type": "markdown",
   "metadata": {},
   "source": [
    "Note that we updated the ```ClassificationNet``` from the previous exercise, so that now you can customize more: the number of outputs, the choice of activation function, the hidden size etc. We encourage you to check out the implementation in ```exercise_code/networks/classification_net.py``` "
   ]
  },
  {
   "cell_type": "code",
   "execution_count": 7,
   "metadata": {},
   "outputs": [],
   "source": [
    "num_layer = 2\n",
    "reg = 0.1\n",
    "\n",
    "model = ClassificationNet(activation=Sigmoid(), \n",
    "                          num_layer=num_layer, \n",
    "                          reg=reg,\n",
    "                          num_classes=10)"
   ]
  },
  {
   "cell_type": "markdown",
   "metadata": {},
   "source": [
    "Then, the forward and backward passes through the model were simply:\n",
    "\n",
    "```python\n",
    "\n",
    "# X is a batch of training features \n",
    "# X.shape = (batch_size, features_size)\n",
    "y_out = model.forward(X)\n",
    "\n",
    "# dout is the gradient of the loss function w.r.t the output of the network.\n",
    "# dout.shape = (batch_size, )\n",
    "model.backward(dout)\n",
    "```"
   ]
  },
  {
   "cell_type": "markdown",
   "metadata": {},
   "source": [
    "Just as the learning rate or the number of iterations we want to train for, the number of hidden layers and the number of units in each hidden layer are also hyperparameters. In this notebook you will play with networks of different sizes and will see the impact that the network capacity has.\n",
    "\n",
    "Before we move on to the loss functions, we want to have a look at the activation functions. The choice of an activation function can have a huge impact on the performance of the network that you are designing. So far, you have implemented the `Sigmoid` and the `Relu` activation function in Exercise 5. \n",
    "\n",
    "<div class=\"alert alert-success\">\n",
    "    <h3>Task: Check Code</h3>\n",
    "    <p>Take a look at the <code>Sigmoid</code> and the <code>Relu</code> class in <code>exercise_code/networks/layer.py</code> and the implementation of the respective forward and backward pass. Make sure to understand why we use <b>element-wise product</b> instead of dot product in the backward pass of the <code>Sigmoid</code> class to compute the gradient $dx$. That will be helpful for your later implementation of other activation functions.</p>\n",
    "    <p> <b>Note:</b> The <code>cache</code> variable is used to store information from the forward pass and then pass this information in the backward pass to make use of it there. The implementation of both classes show that this variable can be used differently - depending on what information is needed in the backward pass. </p>\n",
    "</div>\n",
    "\n",
    "Now, we want to have a look at two other, very common activation functions that you have already met in the lecture: Leaky ReLU activation function and Tanh activation function. \n",
    "\n",
    "**Leaky Relus** are one attempt to fix the “dying ReLU” problem. Instead of the function being zero when $x<0$, a leaky ReLU has a small negative slope (for example, 0.01). That is, the function computes $f(x) = \\mathbb{1}(x < 0) (\\alpha x) + \\mathbb{1}(x>=0) (x)$ where $\\alpha$ is a small constant. Some people report success with this form of activation function, but the results are not always consistent.\n",
    "\n",
    "The **tanh non-linearity** squashes a real-valued number to the range [-1, 1]. Like the sigmoid neuron, its activations saturate, but unlike the sigmoid neuron its output is zero-centered. Therefore, in practice the tanh non-linearity is always preferred to the sigmoid non-linearity. Also note that the tanh neuron is simply a scaled sigmoid neuron, in particular the following holds: $\\tanh(x) = 2 \\cdot \\sigma(2x) -1$.\n",
    "\n",
    "<img class=left src=https://pytorch.org/docs/stable/_images/LeakyReLU.png alt=\"Figure3\" width=\"350\" align='left'/> \n",
    "<img class=right src=https://pytorch.org/docs/stable/_images/Tanh.png alt=\"Figure4\" width=\"350\"/>\n",
    "\n",
    "<div class=\"alert alert-info\">\n",
    "    <h3>Task: Implement Activation Layers</h3>\n",
    "    <p> Now, it is your turn to implement the <code>LeakyRelu</code> and the <code>Tanh</code> class in <code>exercise_code/networks/layer.py</code> by completing the <code>forward</code> and the <code>backward</code> functions. You can test your implementation in the following two cells. </p>\n",
    "    <p> <b>Note:</b> Always remember to return a cache in <code>forward</code> for later backpropagation in <code>backward</code>. As we have seen above, the <code>cache</code> variable can be used differently for two activation functions.</p>\n",
    "</div>\n",
    "\n",
    "Use this cell to test your implementation of the `LeakyRelu` class:"
   ]
  },
  {
   "cell_type": "code",
   "execution_count": 28,
   "metadata": {},
   "outputs": [
    {
     "name": "stdout",
     "output_type": "stream",
     "text": [
      "LeakyReluForwardTest passed.\n",
      "LeakyReluBackwardTest passed.\n",
      "Congratulations you have passed all the unit tests!!! Tests passed: 2/2\n",
      "Score: 100/100\n",
      "You secured a score of :100\n"
     ]
    }
   ],
   "source": [
    "from exercise_code.tests.layer_tests import *\n",
    "print(LeakyReluTestWrapper()())"
   ]
  },
  {
   "cell_type": "markdown",
   "metadata": {},
   "source": [
    "And this cell to test your implementation of the `Tanh` class:"
   ]
  },
  {
   "cell_type": "code",
   "execution_count": 29,
   "metadata": {},
   "outputs": [
    {
     "name": "stdout",
     "output_type": "stream",
     "text": [
      "TanhForwardTest passed.\n",
      "TanhBackwardTest passed.\n",
      "Congratulations you have passed all the unit tests!!! Tests passed: 2/2\n",
      "Score: 100/100\n",
      "You secured a score of :100\n"
     ]
    }
   ],
   "source": [
    "print(TanhTestWrapper()())"
   ]
  },
  {
   "cell_type": "markdown",
   "metadata": {},
   "source": [
    "Congratulations, you now implemented all four different activation functions! These activation layers are now ready to be used when you start building your own network."
   ]
  },
  {
   "cell_type": "markdown",
   "metadata": {},
   "source": [
    "## 1.4 Loss\n",
    "\n",
    "In order to measure how well a network is performing, we implemented several ```Loss``` classes (```L1```, ```MSE```, ```BCE```, each preferred for a certain type of problems) in ```exercise_code/networks/loss.py```.\n",
    "\n",
    "Each implemented a ```forward()``` method, which outputs a number that we use as a proxy for our network performance. \n",
    "\n",
    "Also, because our goal was to change the weights of the network such that this loss measure decreases, we were also interested in the gradients of the loss w.r.t the outputs of the network, $ \\nabla_{\\hat{y}} L({\\hat{y}}, {y}) $. This was implemented in ```backward()```. \n",
    "\n",
    "In previous exercises, we only worked with binary classification and used binary cross entropy (```BCE```) as a loss function.\n",
    "\n",
    "$$ BCE(\\hat{y}, y) = \\frac{1}{N} \\sum_{i=1}^N \\Big [-y_i \\log(\\hat{y_i}) - (1-y_i) \\log(1 - \\hat{y_i}) \\Big] $$ \n",
    "\n",
    "where\n",
    "- $ N $ was the number of samples we were considering\n",
    "- $\\hat{y}_i$ was the network's prediction for sample $i$. Note that this was a valid probability $\\in [0, 1]$, because we applied a [sigmoid](https://en.wikipedia.org/wiki/Sigmoid_function) activation on the last layer. \n",
    "- $ y_i $ was the ground truth label (0 or 1, depending on the class)\n",
    "\n",
    "Because we have 10 classes in the CIFAR10 dataset, we need a generalization of the binary cross entropy for multiple classes. This is simply called the cross entropy loss and has the following definition:\n",
    "\n",
    "$$ CE(\\hat{y}, y) = \\frac{1}{N} \\sum_{i=1}^N \\sum_{k=1}^{C} \\Big[ -y_{ik} \\log(\\hat{y}_{ik}) \\Big] $$\n",
    "\n",
    "where:\n",
    "- $ N $ is again the number of samples\n",
    "- $ C $ is the number of classes\n",
    "- $ \\hat{y}_{ik} $ is the probability that the model assigns for the $k$th class when the $i$th sample is the input. **Because we don't apply any activation function on the last layer of our network, its outputs for each sample will not be a valid probability distribution over the classes. We call these raw outputs of the network '[logits](https://datascience.stackexchange.com/questions/31041/what-does-logits-in-machine-learning-mean/31045)' and we will apply a [softmax](https://en.wikipedia.org/wiki/Softmax_function) activation in order to obtain a valid probability distribution.** \n",
    "- $y_{ik} = 1 $ iff the true label of the $i$th sample is $k$ and 0 otherwise. This is called a [one-hot encoding](https://machinelearningmastery.com/why-one-hot-encode-data-in-machine-learning/).\n",
    "\n",
    "You can check for yourself that when the number of classes $ C $ is 2, then the binary cross entropy is actually equivalent to the cross entropy.\n",
    "\n",
    "<div class=\"alert alert-success\">\n",
    "    <h3>Task: Check Code</h3>\n",
    "    <p>Please check the implementation of the <code>CrossEntropyFromLogits</code> class, which can be found in <code>../exercise_06/exercise_code/networks/loss.py</code>. </p>\n",
    "</div>"
   ]
  },
  {
   "cell_type": "code",
   "execution_count": 6,
   "metadata": {},
   "outputs": [],
   "source": [
    "loss = CrossEntropyFromLogits()"
   ]
  },
  {
   "cell_type": "markdown",
   "metadata": {},
   "source": [
    "Just as with the previous losses we have seen, we can simply get the results of the forward and backward passes as follows:"
   ]
  },
  {
   "cell_type": "markdown",
   "metadata": {},
   "source": [
    "```python\n",
    "# y_out is the output of the neural network\n",
    "# y_truth is the actual label from the dataset\n",
    "loss.forward(y_out, y_truth)\n",
    "loss.backward(y_out, y_truth)\n",
    "```"
   ]
  },
  {
   "cell_type": "markdown",
   "metadata": {},
   "source": [
    "## 1.5 Optimizer\n",
    "\n",
    "Now, knowing the gradient of the loss w.r.t the ouputs of the network, as well as the local gradient for each layer of the network, we can use the chain rule to compute all gradients. \n",
    "\n",
    "<div class=\"alert alert-success\">\n",
    "    <h3>Task: Check Code</h3>\n",
    "    <p>We implemented several optimizer classes <code>SGD</code>, <code>Adam</code>, <code>sgd_momentum</code> class that implement different first-order parameter update rules, which can be found in <code>../exercise_06/exercise_code/networks/optimizer.py</code>. </p>\n",
    "    <p>The <code>step()</code> method iterates through all the parameters of a model and updates them using the gradient information.</p>\n",
    "</div>\n",
    "\n",
    "What the optimizer is doing, in pseudocode, is the following:\n",
    "\n",
    "```python\n",
    "for param in model:\n",
    "    # Use the gradient to update the weights.\n",
    "    update(param)\n",
    "    \n",
    "    # Reset the gradient after each update.\n",
    "    param.gradient = 0\n",
    "```\n",
    "\n",
    "```SGD``` had the simplest update rule:\n",
    "```python\n",
    "def update(param):\n",
    "    param = param - learning_rate * param.gradient\n",
    "```\n",
    "\n",
    "For the more complicated update rules, see ```exercise_code/networks/optimizer.py```"
   ]
  },
  {
   "cell_type": "markdown",
   "metadata": {},
   "source": [
    "## 1.6 Solver\n",
    "\n",
    "The ```Solver``` is where all the above elements come together: Given a train and a validation dataloader, a model, a loss and an optimizer, it uses the training data to optimize a model in order to get better predictions. We simply call ```train()``` and it does its 'magic' for us!\n",
    "```python\n",
    "solver = Solver(model, \n",
    "                dataloaders['train'], \n",
    "                dataloaders['val'], \n",
    "                learning_rate=0.001, \n",
    "                loss_func=MSE(), \n",
    "                optimizer=SGD)\n",
    "\n",
    "solver.train(epochs=epochs)\n",
    "```\n",
    "\n",
    "<div class=\"alert alert-success\">\n",
    "    <h3>Task: Check Code</h3>\n",
    "    <p>Please check out the implementation of <code>train()</code> in <code>../exercise_06/exercise_code/solver.py</code>. </p>\n",
    "</div>"
   ]
  },
  {
   "cell_type": "markdown",
   "metadata": {},
   "source": [
    "## 1.7 Weight Regularization\n",
    "\n",
    "Before we finish this section of recap, we want to take a look at some regularization method that has been introduced in the lecture and that is super helpful to improve robustness of our model. Here, we talk about weight regularization.\n",
    "\n",
    "Weight regularization has been introduced to you as a method preventing our model from overfitting. Essentially, it is a term (solely depending on the weights of our model) that is added to the final loss and that encodes some preference for a certain set of weights $W$ over others. In the lecture, we compared two weight regularization methods and their respective preference for weight vectors. We made the following observation: \n",
    "\n",
    "1. L1 regularization: Enforces sparsity \n",
    "2. L2 regularization: Enforces that weights have similar values\n",
    "\n",
    "The most common weight regularization method is the L2 regularization. From the observations made in the lecture that makes totally sense - at least when we compare it to the L1 regularization. The L2 regularization penalty in the loss prefers smaller and more diffuse weight vectors and hence the model is encouraged to take into account all input dimensions to small amounts rather than a few input dimensions and very strongly.\n",
    "\n",
    "When using weight regularization, the loss function is a composition of two parts:\n",
    "$$L = \\underbrace{\\frac{1}{N} \\sum_{i} L_i}_{\\text{data loss}}  + \\underbrace{\\lambda R(W)}_{\\text{regularization loss}}$$\n",
    "The first one being the data loss, which is calculated with the Cross Entropy loss in our model. The second part is called the regularization loss $R(W)$ and is computed in the L2 case as follows:\n",
    "$$R(W) = \\sum_{k} \\sum_{l} w_{k,l}^2$$\n",
    "\n"
   ]
  },
  {
   "cell_type": "markdown",
   "metadata": {},
   "source": [
    "# 2. An overview of hyperparameters"
   ]
  },
  {
   "cell_type": "markdown",
   "metadata": {
    "collapsed": true
   },
   "source": [
    "\n",
    "<img src=https://images.deepai.org/glossary-terms/05c646fe1676490aa0b8cab0732a02b2/hyperparams.png alt=hyperparameter width=700>\n",
    "\n",
    "A **hyperparameter** is a parameter that is set before the learning process begins. Recall that the parameters of weight matrix and bias vector are learned during the learning process.\n",
    "\n",
    "The hyperparameters are essential, for they control and affect the whole training and have a great impact on the performance of the model. \n",
    "\n",
    "Some examples of hyperparameters we have covered in lectures:\n",
    "* Network architecture\n",
    "    * Choice of activation function\n",
    "    * Number of layers\n",
    "    * ...\n",
    "* Learning rate\n",
    "* Number of epochs\n",
    "* Batch size\n",
    "* Regularization strength\n",
    "* Momentum\n",
    "* ..."
   ]
  },
  {
   "cell_type": "markdown",
   "metadata": {},
   "source": [
    "## 2.1 Start debugging your own network!"
   ]
  },
  {
   "cell_type": "markdown",
   "metadata": {},
   "source": [
    "As already suggested in the lectures, you may always want to start from small and simple architectures, to make sure you are going the right way. \n",
    "\n",
    "First you may need to overfit a single training sample, then a few batches of training samples, then go deeper with larger neural networks and the whole training data.\n",
    "\n",
    "Here we always provide a default neural network (i.e. ClassificationNet) with arbitrary number of layers, which is a generalization from a fixed 2-layer neural network in exercise 5. You are welcome to implement your own network, in that case just implement **MyOwnNetwork** in ```exercise_code/networks/classification_net.py```. You can also copy things from ClassficationNet and make a little adjustment to your own network. For either way, just pick a network and comment out the other one, then run the cells below for debugging.\n",
    "\n",
    "<div class=\"alert alert-warning\">\n",
    "    <h3>Note:</h3>\n",
    "    <p>Please, make sure you don't modify the ClassificationNet itself so that you can always have a working network to fall back on</p>\n",
    "    <p>In order to pass this submissions, you can <b>first stick to the default ClassificationNet implementation without changing any code at all</b>. The goal of this submission is to find reasonable hyperparameters and the parameter options of the ClassificationNet are broad enough.</p>\n",
    "    <p>Once you have surpassed the submission goal, you can try to implement additional activation functions in the accompanying notebook, try different weight initializations or other adjustments by writing your own network architecture in the MyOwnNetwork class.</p>\n",
    "</div>"
   ]
  },
  {
   "cell_type": "markdown",
   "metadata": {},
   "source": [
    "First, let's begin with a 2-layer neural network, and overfit one single training sample.\n",
    "\n",
    "After training, let's evaluate the training process by plotting the loss curves."
   ]
  },
  {
   "cell_type": "code",
   "execution_count": 7,
   "metadata": {},
   "outputs": [
    {
     "name": "stdout",
     "output_type": "stream",
     "text": [
      "(Epoch 1 / 20) train loss: 2.325258; val loss: 2.334092\n",
      "(Epoch 2 / 20) train loss: 2.325258; val loss: 2.323965\n",
      "(Epoch 3 / 20) train loss: 2.193218; val loss: 2.334750\n",
      "(Epoch 4 / 20) train loss: 2.048935; val loss: 2.358441\n",
      "(Epoch 5 / 20) train loss: 1.888026; val loss: 2.387545\n",
      "(Epoch 6 / 20) train loss: 1.722116; val loss: 2.415724\n",
      "(Epoch 7 / 20) train loss: 1.564657; val loss: 2.439026\n",
      "(Epoch 8 / 20) train loss: 1.419394; val loss: 2.456479\n",
      "(Epoch 9 / 20) train loss: 1.281787; val loss: 2.469852\n",
      "(Epoch 10 / 20) train loss: 1.151055; val loss: 2.482027\n",
      "(Epoch 11 / 20) train loss: 1.028212; val loss: 2.495480\n",
      "(Epoch 12 / 20) train loss: 0.913782; val loss: 2.511783\n",
      "(Epoch 13 / 20) train loss: 0.808995; val loss: 2.531355\n",
      "(Epoch 14 / 20) train loss: 0.714543; val loss: 2.553626\n",
      "(Epoch 15 / 20) train loss: 0.630830; val loss: 2.577603\n",
      "(Epoch 16 / 20) train loss: 0.558289; val loss: 2.602399\n",
      "(Epoch 17 / 20) train loss: 0.496433; val loss: 2.627530\n",
      "(Epoch 18 / 20) train loss: 0.443735; val loss: 2.652999\n",
      "(Epoch 19 / 20) train loss: 0.398500; val loss: 2.679185\n",
      "(Epoch 20 / 20) train loss: 0.359503; val loss: 2.706568\n"
     ]
    }
   ],
   "source": [
    "from exercise_code.solver import Solver\n",
    "from exercise_code.networks.optimizer import SGD, Adam\n",
    "from exercise_code.networks import MyOwnNetwork\n",
    "\n",
    "num_layer = 2\n",
    "epochs = 20\n",
    "reg = 0.1\n",
    "batch_size = 4\n",
    "\n",
    "model = ClassificationNet(num_layer=num_layer, reg=reg)\n",
    "# model = MyOwnNetwork()\n",
    "\n",
    "loss = CrossEntropyFromLogits()\n",
    "\n",
    "# Make a new data loader with a single training image\n",
    "overfit_dataset = ImageFolderDataset(\n",
    "    mode='train',\n",
    "    root=cifar_root, \n",
    "    download_url=download_url,\n",
    "    transform=compose_transform,\n",
    "    limit_files=1\n",
    ")\n",
    "dataloaders['train_overfit_single_image'] = DataLoader(\n",
    "    dataset=overfit_dataset,\n",
    "    batch_size=batch_size,\n",
    "    shuffle=True,\n",
    "    drop_last=False,\n",
    ")\n",
    "\n",
    "# Decrease validation data for only debugging\n",
    "debugging_validation_dataset = ImageFolderDataset(\n",
    "    mode='val',\n",
    "    root=cifar_root, \n",
    "    download_url=download_url,\n",
    "    transform=compose_transform,\n",
    "    limit_files=100\n",
    ")\n",
    "dataloaders['val_500files'] = DataLoader(\n",
    "    dataset=debugging_validation_dataset,\n",
    "    batch_size=batch_size,\n",
    "    shuffle=True,\n",
    "    drop_last=True,\n",
    ")\n",
    "\n",
    "solver = Solver(model, dataloaders['train_overfit_single_image'], dataloaders['val_500files'], \n",
    "                learning_rate=1e-3, loss_func=loss, optimizer=Adam)\n",
    "\n",
    "solver.train(epochs=epochs)"
   ]
  },
  {
   "cell_type": "code",
   "execution_count": 15,
   "metadata": {},
   "outputs": [
    {
     "data": {
      "image/png": "[encoded data removed]",
      "text/plain": [
       "<Figure size 720x576 with 1 Axes>"
      ]
     },
     "metadata": {
      "needs_background": "light"
     },
     "output_type": "display_data"
    }
   ],
   "source": [
    "plt.title('Loss curves')\n",
    "plt.plot(solver.train_loss_history, '-', label='train')\n",
    "plt.plot(solver.val_loss_history, '-', label='val')\n",
    "plt.legend(loc='lower right')\n",
    "plt.xlabel('Iteration')\n",
    "plt.show()"
   ]
  },
  {
   "cell_type": "code",
   "execution_count": 16,
   "metadata": {},
   "outputs": [
    {
     "name": "stdout",
     "output_type": "stream",
     "text": [
      "Training accuray: 1.00000\n",
      "Validation accuray: 0.07000\n"
     ]
    }
   ],
   "source": [
    "print(\"Training accuray: %.5f\" % (solver.get_dataset_accuracy(dataloaders['train_overfit_single_image'])))\n",
    "print(\"Validation accuray: %.5f\" % (solver.get_dataset_accuracy(dataloaders['val_500files'])))"
   ]
  },
  {
   "cell_type": "markdown",
   "metadata": {},
   "source": [
    "This time let's try to overfit to a small set of training batch samples. Please observe the difference from above. "
   ]
  },
  {
   "cell_type": "code",
   "execution_count": 21,
   "metadata": {},
   "outputs": [
    {
     "name": "stdout",
     "output_type": "stream",
     "text": [
      "(Epoch 1 / 100) train loss: 2.330714; val loss: 2.333675\n",
      "(Epoch 2 / 100) train loss: 2.322851; val loss: 2.336024\n",
      "(Epoch 3 / 100) train loss: 2.206258; val loss: 2.390696\n",
      "(Epoch 4 / 100) train loss: 2.048485; val loss: 2.438327\n",
      "(Epoch 5 / 100) train loss: 2.048947; val loss: 2.521317\n",
      "(Epoch 6 / 100) train loss: 1.924744; val loss: 2.565365\n",
      "(Epoch 7 / 100) train loss: 1.859336; val loss: 2.627599\n",
      "(Epoch 8 / 100) train loss: 1.727055; val loss: 2.709561\n",
      "(Epoch 9 / 100) train loss: 1.753243; val loss: 2.796378\n",
      "(Epoch 10 / 100) train loss: 1.810472; val loss: 2.843295\n",
      "(Epoch 11 / 100) train loss: 1.716771; val loss: 2.855172\n",
      "(Epoch 12 / 100) train loss: 1.649579; val loss: 2.978455\n",
      "(Epoch 13 / 100) train loss: 1.627210; val loss: 3.090776\n",
      "(Epoch 14 / 100) train loss: 1.676056; val loss: 3.121305\n",
      "(Epoch 15 / 100) train loss: 1.600458; val loss: 3.083276\n",
      "(Epoch 16 / 100) train loss: 1.678579; val loss: 3.098059\n",
      "(Epoch 17 / 100) train loss: 1.723503; val loss: 3.166699\n",
      "(Epoch 18 / 100) train loss: 1.660392; val loss: 3.249021\n",
      "(Epoch 19 / 100) train loss: 1.751608; val loss: 3.241848\n",
      "(Epoch 20 / 100) train loss: 1.567577; val loss: 3.249033\n",
      "(Epoch 21 / 100) train loss: 1.544971; val loss: 3.310846\n",
      "(Epoch 22 / 100) train loss: 1.659654; val loss: 3.307607\n",
      "(Epoch 23 / 100) train loss: 1.580577; val loss: 3.301367\n",
      "(Epoch 24 / 100) train loss: 1.428639; val loss: 3.369103\n",
      "(Epoch 25 / 100) train loss: 1.570707; val loss: 3.423609\n",
      "(Epoch 26 / 100) train loss: 1.649223; val loss: 3.393484\n",
      "(Epoch 27 / 100) train loss: 1.474093; val loss: 3.371873\n",
      "(Epoch 28 / 100) train loss: 1.506128; val loss: 3.349287\n",
      "(Epoch 29 / 100) train loss: 1.602210; val loss: 3.377517\n",
      "(Epoch 30 / 100) train loss: 1.492901; val loss: 3.404070\n",
      "(Epoch 31 / 100) train loss: 1.514728; val loss: 3.391878\n",
      "(Epoch 32 / 100) train loss: 1.465419; val loss: 3.399468\n",
      "(Epoch 33 / 100) train loss: 1.430967; val loss: 3.423511\n",
      "(Epoch 34 / 100) train loss: 1.410626; val loss: 3.429161\n",
      "(Epoch 35 / 100) train loss: 1.355891; val loss: 3.426582\n",
      "(Epoch 36 / 100) train loss: 1.340893; val loss: 3.426741\n",
      "(Epoch 37 / 100) train loss: 1.298118; val loss: 3.449043\n",
      "(Epoch 38 / 100) train loss: 1.349823; val loss: 3.461774\n",
      "(Epoch 39 / 100) train loss: 1.272361; val loss: 3.495671\n",
      "(Epoch 40 / 100) train loss: 1.370703; val loss: 3.470807\n",
      "(Epoch 41 / 100) train loss: 1.404281; val loss: 3.428731\n",
      "(Epoch 42 / 100) train loss: 1.305821; val loss: 3.480402\n",
      "(Epoch 43 / 100) train loss: 1.283571; val loss: 3.529695\n",
      "(Epoch 44 / 100) train loss: 1.341723; val loss: 3.509301\n",
      "(Epoch 45 / 100) train loss: 1.290422; val loss: 3.511805\n",
      "(Epoch 46 / 100) train loss: 1.300296; val loss: 3.515872\n",
      "(Epoch 47 / 100) train loss: 1.187127; val loss: 3.509627\n",
      "(Epoch 48 / 100) train loss: 1.202706; val loss: 3.475593\n",
      "(Epoch 49 / 100) train loss: 1.186549; val loss: 3.469591\n",
      "(Epoch 50 / 100) train loss: 1.134300; val loss: 3.469976\n",
      "(Epoch 51 / 100) train loss: 1.257615; val loss: 3.502939\n",
      "(Epoch 52 / 100) train loss: 1.189713; val loss: 3.595822\n",
      "(Epoch 53 / 100) train loss: 1.289134; val loss: 3.629207\n",
      "(Epoch 54 / 100) train loss: 1.263086; val loss: 3.603094\n",
      "(Epoch 55 / 100) train loss: 1.158496; val loss: 3.553593\n",
      "(Epoch 56 / 100) train loss: 1.191770; val loss: 3.536410\n",
      "(Epoch 57 / 100) train loss: 1.108928; val loss: 3.554835\n",
      "(Epoch 58 / 100) train loss: 1.129385; val loss: 3.566177\n",
      "(Epoch 59 / 100) train loss: 1.130796; val loss: 3.564218\n",
      "(Epoch 60 / 100) train loss: 1.037656; val loss: 3.542873\n",
      "(Epoch 61 / 100) train loss: 1.032278; val loss: 3.516430\n",
      "(Epoch 62 / 100) train loss: 1.070672; val loss: 3.511018\n",
      "(Epoch 63 / 100) train loss: 1.005471; val loss: 3.546918\n",
      "(Epoch 64 / 100) train loss: 1.007420; val loss: 3.570205\n",
      "(Epoch 65 / 100) train loss: 1.005690; val loss: 3.558493\n",
      "(Epoch 66 / 100) train loss: 1.017218; val loss: 3.576596\n",
      "(Epoch 67 / 100) train loss: 1.023279; val loss: 3.621926\n",
      "(Epoch 68 / 100) train loss: 1.023309; val loss: 3.642153\n",
      "(Epoch 69 / 100) train loss: 1.001783; val loss: 3.614799\n",
      "(Epoch 70 / 100) train loss: 1.043797; val loss: 3.574241\n",
      "(Epoch 71 / 100) train loss: 1.084404; val loss: 3.597426\n",
      "(Epoch 72 / 100) train loss: 1.023775; val loss: 3.648977\n",
      "(Epoch 73 / 100) train loss: 0.996618; val loss: 3.664252\n",
      "(Epoch 74 / 100) train loss: 0.961452; val loss: 3.625842\n",
      "(Epoch 75 / 100) train loss: 0.959495; val loss: 3.557064\n",
      "(Epoch 76 / 100) train loss: 0.941200; val loss: 3.542349\n",
      "(Epoch 77 / 100) train loss: 0.914138; val loss: 3.561267\n",
      "(Epoch 78 / 100) train loss: 0.923279; val loss: 3.577199\n",
      "(Epoch 79 / 100) train loss: 0.907539; val loss: 3.599081\n",
      "(Epoch 80 / 100) train loss: 0.910286; val loss: 3.566655\n",
      "(Epoch 81 / 100) train loss: 0.932603; val loss: 3.577836\n",
      "(Epoch 82 / 100) train loss: 0.929181; val loss: 3.594178\n",
      "(Epoch 83 / 100) train loss: 0.962191; val loss: 3.586407\n",
      "(Epoch 84 / 100) train loss: 0.886805; val loss: 3.592359\n",
      "(Epoch 85 / 100) train loss: 0.936974; val loss: 3.598689\n",
      "(Epoch 86 / 100) train loss: 0.856905; val loss: 3.602397\n",
      "(Epoch 87 / 100) train loss: 0.903974; val loss: 3.586312\n",
      "(Epoch 88 / 100) train loss: 0.899899; val loss: 3.545140\n",
      "(Epoch 89 / 100) train loss: 0.863499; val loss: 3.558516\n",
      "(Epoch 90 / 100) train loss: 0.857781; val loss: 3.572685\n",
      "(Epoch 91 / 100) train loss: 0.857689; val loss: 3.573357\n",
      "(Epoch 92 / 100) train loss: 0.921195; val loss: 3.584809\n",
      "(Epoch 93 / 100) train loss: 0.910823; val loss: 3.664758\n",
      "(Epoch 94 / 100) train loss: 1.033387; val loss: 3.642586\n",
      "(Epoch 95 / 100) train loss: 0.915039; val loss: 3.654582\n",
      "(Epoch 96 / 100) train loss: 0.942112; val loss: 3.666786\n",
      "(Epoch 97 / 100) train loss: 0.995347; val loss: 3.677486\n",
      "(Epoch 98 / 100) train loss: 0.908412; val loss: 3.710229\n",
      "(Epoch 99 / 100) train loss: 0.853754; val loss: 3.661848\n",
      "(Epoch 100 / 100) train loss: 0.906285; val loss: 3.598777\n"
     ]
    }
   ],
   "source": [
    "from exercise_code.networks import MyOwnNetwork\n",
    "\n",
    "num_layer = 2\n",
    "epochs = 100\n",
    "reg = 0.1\n",
    "num_samples = 10\n",
    "\n",
    "model = ClassificationNet(num_layer=num_layer, reg=reg)\n",
    "# model = MyOwnNetwork()\n",
    "\n",
    "loss = CrossEntropyFromLogits()\n",
    "\n",
    "# Make a new data loader with a our num_samples training image\n",
    "overfit_dataset = ImageFolderDataset(\n",
    "    mode='train',\n",
    "    root=cifar_root, \n",
    "    download_url=download_url,\n",
    "    transform=compose_transform,\n",
    "    limit_files=num_samples\n",
    ")\n",
    "dataloaders['train_overfit_10samples'] = DataLoader(\n",
    "    dataset=overfit_dataset,\n",
    "    batch_size=batch_size,\n",
    "    shuffle=True,\n",
    "    drop_last=False,\n",
    ")\n",
    "\n",
    "solver = Solver(model, dataloaders['train_overfit_10samples'], dataloaders['val_500files'], \n",
    "                learning_rate=1e-3, loss_func=loss, optimizer=Adam)\n",
    "\n",
    "solver.train(epochs=epochs)"
   ]
  },
  {
   "cell_type": "code",
   "execution_count": 18,
   "metadata": {},
   "outputs": [
    {
     "data": {
      "image/png": "[encoded data removed]",
      "text/plain": [
       "<Figure size 720x576 with 1 Axes>"
      ]
     },
     "metadata": {
      "needs_background": "light"
     },
     "output_type": "display_data"
    }
   ],
   "source": [
    "plt.title('Loss curves')\n",
    "plt.plot(solver.train_loss_history, '-', label='train')\n",
    "plt.plot(solver.val_loss_history, '-', label='val')\n",
    "plt.legend(loc='lower right')\n",
    "plt.xlabel('Iteration')\n",
    "plt.show()"
   ]
  },
  {
   "cell_type": "code",
   "execution_count": 20,
   "metadata": {},
   "outputs": [
    {
     "name": "stdout",
     "output_type": "stream",
     "text": [
      "Training accuray: 1.00000\n",
      "Validation accuray: 0.06000\n"
     ]
    }
   ],
   "source": [
    "print(\"Training accuray: %.5f\" % (solver.get_dataset_accuracy(dataloaders['train_overfit_10samples'])))\n",
    "print(\"Validation accuray: %.5f\" % (solver.get_dataset_accuracy(dataloaders['val_500files'])))"
   ]
  },
  {
   "cell_type": "markdown",
   "metadata": {},
   "source": [
    "If you're overfitting the training data, that means the network's implementation is correct. However, as you have more samples to overfit, your accuracy will be way lower. You can increase the number of epochs above to achieve better results.\n",
    "\n",
    "Now let's try to feed all the training and validation data into the network, but this time we set the same hyperparameters for 2-layer and 5-layer networks, and compare the different behaviors.\n",
    "\n",
    "<div class=\"alert alert-warning\">\n",
    "    <h3>Note:</h3>\n",
    "    <p>This may take about 1 min for each epoch as the training set is quite large. For convenience, we only train on 1000 images for now but use the full validation set.</p>\n",
    "</div>"
   ]
  },
  {
   "cell_type": "code",
   "execution_count": 23,
   "metadata": {},
   "outputs": [
    {
     "name": "stdout",
     "output_type": "stream",
     "text": [
      "(Epoch 1 / 5) train loss: 2.305701; val loss: 2.305666\n",
      "(Epoch 2 / 5) train loss: 2.278313; val loss: 2.217917\n",
      "(Epoch 3 / 5) train loss: 2.229720; val loss: 2.238025\n",
      "(Epoch 4 / 5) train loss: 2.225433; val loss: 2.224318\n",
      "(Epoch 5 / 5) train loss: 2.221156; val loss: 2.223714\n"
     ]
    }
   ],
   "source": [
    "from exercise_code.networks import MyOwnNetwork\n",
    "\n",
    "num_layer = 2\n",
    "epochs = 5\n",
    "reg = 0.01\n",
    "\n",
    "# Make a new data loader with 1000 training samples\n",
    "num_samples = 1000\n",
    "overfit_dataset = ImageFolderDataset(\n",
    "    mode='train',\n",
    "    root=cifar_root, \n",
    "    download_url=download_url,\n",
    "    transform=compose_transform,\n",
    "    limit_files=num_samples\n",
    ")\n",
    "dataloaders['train_small'] = DataLoader(\n",
    "    dataset=overfit_dataset,\n",
    "    batch_size=batch_size,\n",
    "    shuffle=True,\n",
    "    drop_last=False,\n",
    ")\n",
    "\n",
    "\n",
    "# Change here if you want to use the full training set\n",
    "use_full_training_set = False\n",
    "if not use_full_training_set:\n",
    "    train_loader = dataloaders['train_small']\n",
    "else:\n",
    "    train_loader = dataloaders['train']\n",
    "    \n",
    "\n",
    "model = ClassificationNet(num_layer=num_layer, reg=reg)\n",
    "# model = MyOwnNetwork()\n",
    "\n",
    "loss = CrossEntropyFromLogits()\n",
    "\n",
    "solver = Solver(model, train_loader, dataloaders['val'], \n",
    "                learning_rate=1e-3, loss_func=loss, optimizer=Adam)\n",
    "\n",
    "solver.train(epochs=epochs)"
   ]
  },
  {
   "cell_type": "code",
   "execution_count": 22,
   "metadata": {},
   "outputs": [
    {
     "data": {
      "image/png": "[encoded data removed]",
      "text/plain": [
       "<Figure size 720x576 with 1 Axes>"
      ]
     },
     "metadata": {
      "needs_background": "light"
     },
     "output_type": "display_data"
    }
   ],
   "source": [
    "plt.title('Loss curves')\n",
    "plt.plot(solver.train_loss_history, '-', label='train')\n",
    "plt.plot(solver.val_loss_history, '-', label='val')\n",
    "plt.legend(loc='lower right')\n",
    "plt.xlabel('Iteration')\n",
    "plt.show()"
   ]
  },
  {
   "cell_type": "code",
   "execution_count": 23,
   "metadata": {},
   "outputs": [
    {
     "name": "stdout",
     "output_type": "stream",
     "text": [
      "Training accuray: 0.31100\n",
      "Validation accuray: 0.25541\n"
     ]
    }
   ],
   "source": [
    "print(\"Training accuray: %.5f\" % (solver.get_dataset_accuracy(train_loader)))\n",
    "print(\"Validation accuray: %.5f\" % (solver.get_dataset_accuracy(dataloaders['val'])))"
   ]
  },
  {
   "cell_type": "code",
   "execution_count": 24,
   "metadata": {},
   "outputs": [
    {
     "name": "stdout",
     "output_type": "stream",
     "text": [
      "(Epoch 1 / 5) train loss: 2.305912; val loss: 2.305979\n",
      "(Epoch 2 / 5) train loss: 2.327428; val loss: 2.308302\n",
      "(Epoch 3 / 5) train loss: 2.318951; val loss: 2.320646\n",
      "(Epoch 4 / 5) train loss: 2.313579; val loss: 2.323224\n",
      "(Epoch 5 / 5) train loss: 2.318441; val loss: 2.314183\n"
     ]
    }
   ],
   "source": [
    "from exercise_code.networks import MyOwnNetwork\n",
    "\n",
    "num_layer = 5\n",
    "epochs = 5\n",
    "reg = 0.01\n",
    "\n",
    "model = ClassificationNet(num_layer=num_layer, reg=reg)\n",
    "# model = MyOwnNetwork()\n",
    "\n",
    "# Change here if you want to use the full training set\n",
    "use_full_training_set = False\n",
    "if not use_full_training_set:\n",
    "    train_loader = dataloaders['train_small']\n",
    "else:\n",
    "    train_loader = dataloaders['train']\n",
    "\n",
    "loss = CrossEntropyFromLogits()\n",
    "\n",
    "solver = Solver(model, train_loader, dataloaders['val'], \n",
    "                learning_rate=1e-3, loss_func=loss, optimizer=Adam)\n",
    "\n",
    "solver.train(epochs=epochs)"
   ]
  },
  {
   "cell_type": "code",
   "execution_count": 25,
   "metadata": {},
   "outputs": [
    {
     "data": {
      "image/png": "[encoded data removed]",
      "text/plain": [
       "<Figure size 720x576 with 1 Axes>"
      ]
     },
     "metadata": {
      "needs_background": "light"
     },
     "output_type": "display_data"
    }
   ],
   "source": [
    "plt.title('Loss curves')\n",
    "plt.plot(solver.train_loss_history, '-', label='train')\n",
    "plt.plot(solver.val_loss_history, '-', label='val')\n",
    "plt.legend(loc='lower right')\n",
    "plt.xlabel('Iteration')\n",
    "plt.show()"
   ]
  },
  {
   "cell_type": "code",
   "execution_count": null,
   "metadata": {},
   "outputs": [],
   "source": [
    "print(\"Training accuray: %.5f\" % (solver.get_dataset_accuracy(train_loader)))\n",
    "print(\"Validation accuray: %.5f\" % (solver.get_dataset_accuracy(dataloaders['val'])))"
   ]
  },
  {
   "cell_type": "markdown",
   "metadata": {},
   "source": [
    "As you can see from above, the same hyperparameter set can decrease the loss for a 2-layer network, but for 5-layer network, it hardly works.\n",
    "\n",
    "The steps above are already mentioned in the lectures as debugging steps before training a neural network. \n",
    "\n",
    "If you implement your own network, make sure you do the steps above before tuning the hyperparameters as below. "
   ]
  },
  {
   "cell_type": "markdown",
   "metadata": {},
   "source": [
    "## 2.2 Difficulty in tuning hyperparameters\n",
    "As can be seen through the results of training a larger network, training with whole data doesn't fit the training data as well as training with small number of training data. Besides, the architecture of neural network makes a difference, too. Small decisions on hyperparameters count. \n",
    "\n",
    "Usually, but not always, hyperparameters cannot be learned using well known gradient based methods (such as gradient descent), which are commonly employed to learn parameters. Besides, some hyperparameters can affect the structure of the model and the loss function.\n",
    "\n",
    "As mentioned before, hyperparameters need to be set before training. Tuning hyperparameters is hard, because you always have to try different combinations of the hyperparameters, train the network, do the validation and pick the best one. Besides, it is not guaranteed that you'll find the best combination.\n",
    "\n",
    "Next you will do hands on learning with hyperparameter tuning methods that are covered in lectures."
   ]
  },
  {
   "cell_type": "markdown",
   "metadata": {},
   "source": [
    "# 3. Hyperparameter Tuning\n",
    "\n",
    "![alt text](https://blog.floydhub.com/content/images/2018/08/Screen-Shot-2018-08-22-at-17.59.25.png \"\")\n",
    "\n",
    "One of the main challenges in deep learning is finding the set of hyperparameters that performs best.\n",
    "\n",
    "So far, we have followed a manual approach by guessing hyperparameters, running the model, observing the result and maybe tweaking the hyperparameters based on this result. As you have probably noticed, this manual hyperparameter tuning is unstructured, inefficient and can become very tedious.\n",
    "\n",
    "\n",
    "A more systematic (and actually very simple) approach for hyperparameter tuning that you've already learned in the lecture  is implementing a **Grid Search**. \n",
    "\n",
    "\n",
    "\n",
    "## 3.1 Grid Search\n",
    "Grid search is a simple and naive, yet effective method to automate the hyperparameter tuning:\n",
    "\n",
    "* First, you define the set of parameters you want to tune, e.g. $\\{learning\\_rate, regularization\\_strength\\}$.\n",
    "\n",
    "* For each hyperparameter, you then define a set of possible values, e.g. $learning\\_rate = \\{0.0001, 0.001, 0.01, 0.1\\}$.\n",
    "\n",
    "* Then, you train a model for every possible combination of these hyperparameter values and afterwards select the combination that works best (e.g. in terms of accuracy on your validation set).\n",
    "\n",
    "<div class=\"alert alert-success\">\n",
    "    <h3>Task: Check Code</h3>\n",
    "    <p>Check out our <code>grid_search</code> implementation in <code>../exercise_6/exercise_code/hyperparameter_tuning.py</code>. We show a simple for loop implementation and a more sophisticated one for multiple inputs. </p>\n",
    "</div>\n",
    " \n",
    " <div class=\"alert alert-warning\">\n",
    "    <h3>Note:</h3>\n",
    "    <p>To keep things simple for the beginning, it'll be enough to just focus on the hyperparameters <code>learning_rate</code> and <code>regularization_strength</code> here, as in the example above.</p>\n",
    "</div>"
   ]
  },
  {
   "cell_type": "code",
   "execution_count": 26,
   "metadata": {},
   "outputs": [
    {
     "name": "stdout",
     "output_type": "stream",
     "text": [
      "\n",
      "Evaluating Config #1 [of 3]:\n",
      " {'learning_rate': 0.01, 'reg': 0.0001}\n",
      "(Epoch 1 / 10) train loss: 2.302625; val loss: 2.301871\n",
      "(Epoch 2 / 10) train loss: 2.510564; val loss: 2.576243\n",
      "(Epoch 3 / 10) train loss: 2.738432; val loss: 2.895521\n",
      "(Epoch 4 / 10) train loss: 2.908078; val loss: 3.182944\n"
     ]
    },
    {
     "name": "stderr",
     "output_type": "stream",
     "text": [
      "C:\\Users\\LENOVO\\Downloads\\Sem 2\\I2DL\\exercise_06\\exercise_06_cleaned\\exercise_code\\networks\\layer.py:66: RuntimeWarning: overflow encountered in exp\n",
      "  outputs = 1 / (1 + np.exp(-x))\n"
     ]
    },
    {
     "name": "stdout",
     "output_type": "stream",
     "text": [
      "(Epoch 5 / 10) train loss: 3.078494; val loss: 3.097409\n",
      "(Epoch 6 / 10) train loss: 3.164205; val loss: 3.038173\n",
      "Stopping early at epoch 5!\n",
      "\n",
      "Evaluating Config #2 [of 3]:\n",
      " {'learning_rate': 0.001, 'reg': 0.0001}\n",
      "(Epoch 1 / 10) train loss: 2.302566; val loss: 2.301719\n",
      "(Epoch 2 / 10) train loss: 2.172694; val loss: 2.036981\n",
      "(Epoch 3 / 10) train loss: 1.996012; val loss: 1.924563\n",
      "(Epoch 4 / 10) train loss: 1.890337; val loss: 1.895747\n",
      "(Epoch 5 / 10) train loss: 1.815095; val loss: 1.889125\n",
      "(Epoch 6 / 10) train loss: 1.751919; val loss: 1.919132\n",
      "(Epoch 7 / 10) train loss: 1.688941; val loss: 1.927266\n",
      "(Epoch 8 / 10) train loss: 1.626890; val loss: 1.907674\n",
      "(Epoch 9 / 10) train loss: 1.568905; val loss: 1.900234\n",
      "(Epoch 10 / 10) train loss: 1.515500; val loss: 1.926317\n",
      "Stopping early at epoch 9!\n",
      "\n",
      "Evaluating Config #3 [of 3]:\n",
      " {'learning_rate': 0.0001, 'reg': 0.0001}\n",
      "(Epoch 1 / 10) train loss: 2.302377; val loss: 2.302019\n",
      "(Epoch 2 / 10) train loss: 2.289257; val loss: 2.247093\n",
      "(Epoch 3 / 10) train loss: 2.222233; val loss: 2.158133\n",
      "(Epoch 4 / 10) train loss: 2.148458; val loss: 2.092041\n",
      "(Epoch 5 / 10) train loss: 2.088258; val loss: 2.046723\n",
      "(Epoch 6 / 10) train loss: 2.040435; val loss: 2.012756\n",
      "(Epoch 7 / 10) train loss: 1.997023; val loss: 1.986727\n",
      "(Epoch 8 / 10) train loss: 1.957522; val loss: 1.968995\n",
      "(Epoch 9 / 10) train loss: 1.924583; val loss: 1.948706\n",
      "(Epoch 10 / 10) train loss: 1.888273; val loss: 1.921058\n",
      "\n",
      "Search done. Best Val Loss = 1.8891252957698208\n",
      "Best Config: {'learning_rate': 0.001, 'reg': 0.0001}\n"
     ]
    }
   ],
   "source": [
    "from exercise_code.networks import MyOwnNetwork\n",
    "\n",
    "# Specify the used network\n",
    "model_class = ClassificationNet\n",
    "\n",
    "from exercise_code import hyperparameter_tuning\n",
    "best_model, results = hyperparameter_tuning.grid_search(\n",
    "    dataloaders['train_small'], dataloaders['val_500files'],\n",
    "    grid_search_spaces = {\n",
    "        \"learning_rate\": [1e-2, 1e-3, 1e-4], \n",
    "        \"reg\": [1e-4]\n",
    "    },\n",
    "    model_class=model_class,\n",
    "    epochs=10, patience=5)"
   ]
  },
  {
   "cell_type": "markdown",
   "metadata": {},
   "source": [
    "From the results of your grid search, you might already have found some hyperparameter combinations that work better than others. A common practice is to now repeat the grid search on a more narrow domain centered around the parameters that worked best. \n",
    "\n",
    "**Conclusion Grid Search**\n",
    "\n",
    "With grid search we now have automated the hyperparameter tuning to a certain degree. Another advantage is, that since the training of all models are independent of each other, you can parallelize the grid search, i.e.,  try out different hyperparameter configurations in parallel on different machines.\n",
    "\n",
    "However, as you have probably noticed, there is one big problem with this approach: the number of possible combinations to try out grows exponentially with the number of hyperparameters (\"curse of dimensionality\"). As we add more hyperparameters to the grid search, the search space will explode in time complexity, making this strategy unfeasible."
   ]
  },
  {
   "cell_type": "markdown",
   "metadata": {},
   "source": [
    "Especially when your search space contains more than 3 or 4 dimensions, it is often better to use another, similar hyperparameter tuning method that you've already learned about: random search."
   ]
  },
  {
   "cell_type": "markdown",
   "metadata": {},
   "source": [
    "## 3.2 Random Search\n",
    "Random search is very similar to grid search, with the only difference, that instead of providing specific values for every hyperparameter, you only define a range for each hyperparameter - then, the values are sampled randomly from the provided ranges.\n",
    "\n",
    "![alt text](https://i.stack.imgur.com/cIDuR.png \"\")\n",
    "\n",
    "The figure above illustrates the difference in the hyperparameter space exploration between grid search and random search: assume you have 2 hyperparameters with each 3 values. Running a grid search results in training $3^2=9$ different models - but in the end, you've just tired out 3 values for each parameter. For random search on the other hand, after training 9 models you'll have tried out 9 different values for each hyperparameter, which often leads much faster to good results.\n",
    "\n",
    "To get a deeper understanding of random search and why it is more efficient than grid search, you should definitely check out this paper: http://www.jmlr.org/papers/volume13/bergstra12a/bergstra12a.pdf\n",
    "\n",
    "<div class=\"alert alert-success\">\n",
    "    <h3>Task: Check Code</h3>\n",
    "    <p>Check out our <code>random_search</code> implementation in <code>../exercise_6/exercise_code/hyperparameter_tuning.py</code></p>\n",
    "</div>\n",
    "\n",
    "\n",
    "*Hint: regarding the sample space of each parameter, think about the scale for which it makes most sense to sample in. For example the learning rate is usually sampled on a logarithmic scale!*\n",
    "\n",
    "*For simplicity and speed, just use the `train_batches`-dataloader!*"
   ]
  },
  {
   "cell_type": "code",
   "execution_count": 15,
   "metadata": {},
   "outputs": [
    {
     "ename": "KeyError",
     "evalue": "'train_small'",
     "output_type": "error",
     "traceback": [
      "\u001b[1;31m---------------------------------------------------------------------------\u001b[0m",
      "\u001b[1;31mKeyError\u001b[0m                                  Traceback (most recent call last)",
      "\u001b[1;32m~\\AppData\\Local\\Temp/ipykernel_3912/1292408242.py\u001b[0m in \u001b[0;36m<module>\u001b[1;34m\u001b[0m\n\u001b[0;32m      6\u001b[0m \u001b[1;33m\u001b[0m\u001b[0m\n\u001b[0;32m      7\u001b[0m best_model, results = random_search(\n\u001b[1;32m----> 8\u001b[1;33m     \u001b[0mdataloaders\u001b[0m\u001b[1;33m[\u001b[0m\u001b[1;34m'train_small'\u001b[0m\u001b[1;33m]\u001b[0m\u001b[1;33m,\u001b[0m \u001b[0mdataloaders\u001b[0m\u001b[1;33m[\u001b[0m\u001b[1;34m'val_500files'\u001b[0m\u001b[1;33m]\u001b[0m\u001b[1;33m,\u001b[0m\u001b[1;33m\u001b[0m\u001b[1;33m\u001b[0m\u001b[0m\n\u001b[0m\u001b[0;32m      9\u001b[0m     random_search_spaces = {\n\u001b[0;32m     10\u001b[0m         \u001b[1;34m\"learning_rate\"\u001b[0m\u001b[1;33m:\u001b[0m \u001b[1;33m(\u001b[0m\u001b[1;33m[\u001b[0m\u001b[1;36m1e-2\u001b[0m\u001b[1;33m,\u001b[0m \u001b[1;36m1e-6\u001b[0m\u001b[1;33m]\u001b[0m\u001b[1;33m,\u001b[0m \u001b[1;34m'log'\u001b[0m\u001b[1;33m)\u001b[0m\u001b[1;33m,\u001b[0m\u001b[1;33m\u001b[0m\u001b[1;33m\u001b[0m\u001b[0m\n",
      "\u001b[1;31mKeyError\u001b[0m: 'train_small'"
     ]
    }
   ],
   "source": [
    "from exercise_code.hyperparameter_tuning import random_search\n",
    "from exercise_code.networks import MyOwnNetwork\n",
    "\n",
    "# Specify the used network\n",
    "model_class = ClassificationNet\n",
    "\n",
    "best_model, results = random_search(\n",
    "    dataloaders['train_small'], dataloaders['val_500files'],\n",
    "    random_search_spaces = {\n",
    "        \"learning_rate\": ([1e-2, 1e-6], 'log'),\n",
    "        \"reg\": ([1e-3, 1e-7], \"log\"),\n",
    "        \"loss_func\": ([CrossEntropyFromLogits()], \"item\")\n",
    "    },\n",
    "    model_class=model_class,\n",
    "    num_search = 1, epochs=20, patience=5)"
   ]
  },
  {
   "cell_type": "markdown",
   "metadata": {},
   "source": [
    "It's time to run it with the whole dataset, and let it search for a few hours for a nice configuration. \n",
    "\n",
    "However, to save some time, let's first implement an **early-stopping** mechanism, that you also already know from the lecture."
   ]
  },
  {
   "cell_type": "markdown",
   "metadata": {},
   "source": [
    "## 3.3 Early Stopping"
   ]
  },
  {
   "cell_type": "markdown",
   "metadata": {},
   "source": [
    "By now you've already seen a lot of training curves:\n",
    "\n",
    "<img src=http://fouryears.eu/wp-content/uploads/2017/12/early_stopping.png></img>\n",
    "\n",
    "Usually, at some point the validation loss goes up again, which is a sign that we're overfitting to our training data. Since it actually doesn't make any sense to train further at this point, it's common practice to apply \"early stopping\", i.e., cancel the training process when the validation loss doesn't improve anymore. The nice thing about this concept is, that not only it improves generalization through the prevention of overfitting, but also it saves us a lot of time - one of our most valuable resources in deep learning.\n",
    "\n",
    "Since there are natural fluctuations in the validation loss, you usually don't cancel the training process right at the first epoch when the validation-loss increases, but instead, you wait for some epochs (specified by the `patience`-parameter) and if the loss still doesn't improve, we stop.\n",
    "\n",
    "<div class=\"alert alert-success\">\n",
    "    <h3>Task: Check Code</h3>\n",
    "    <p>Please check the implementation of the early stopping mechanism in <code>../exercise_6/exercise_code/solver.py</code>.\n",
    " </p>\n",
    "</div>"
   ]
  },
  {
   "cell_type": "markdown",
   "metadata": {},
   "source": [
    "## 3.4 Let's find the perfect model!"
   ]
  },
  {
   "cell_type": "markdown",
   "metadata": {},
   "source": [
    "You've now set everything up to start training your model and finding a nice set of hyper parameters using a combination of grid or random search!\n",
    "\n",
    "Since we'll now be training with a much larger number of samples, you should be aware that this process will definitely take some time! So be prepared to let your machine run for a while. \n",
    "\n",
    "At the beginning, it's a good approach to first do a coarse random search across a wide range of values to find promising sub-ranges of your parameter space. Afterwards, you can zoom in to these ranges and do another random search (or grid search) to finetune the configuration.\n",
    "\n",
    "You don't have to use the whole dataset at the beginning, instead you can also use a medium large subset of the samples. Also, you don't need to train for a large number of epochs - as mentioned above: we first want to get an overview about our hyper parameters.\n",
    "\n",
    "<div class=\"alert alert-info\">\n",
    "    <h3>Task: Hyperparameters Tunning & Model Training </h3>\n",
    "        <p> Now, it is your turn to do the hyperparamater tuning. In the cell below, you can use the <code>random_search</code> function to find a good choice of parameters. Put in some reasonable ranges for the hyperparameters and evaluate them.\n",
    "    <p> <b>Note:</b> At the beginning, it's a good approach to first do a coarse random search across a <b> wide range of values</b> to find promising sub-ranges of your parameter space and use <b> a medium large subset of the dataset </b>instead the whole as well. Afterwards, you can zoom in to these ranges and do another random search (or grid search) to finetune the configuration. Use the cell below to play around and find good hyperparameters for your model!</p>\n",
    "        <p> Finally, once you've found some promising hyperparameters (or narrowed them down to promising subranges), it's time to utilize these hyperparameters to train your network on the whole dataset for a large number of epochs so that your own model can reach an acceptable performance. \n",
    "        <p> <b>Hint:</b> You may use a <code>Solver</code> class we provided before or directly use the <code>random_search</code> function (as you can also monitor the loss here) for model training.\n",
    "</div>"
   ]
  },
  {
   "cell_type": "code",
   "execution_count": 13,
   "metadata": {},
   "outputs": [
    {
     "name": "stdout",
     "output_type": "stream",
     "text": [
      "\n",
      "Evaluating Config #1 [of 5]:\n",
      " {'learning_rate': 0.0007996683085923626, 'lr_decay': 0.5526174046103886, 'hidden_size': 74, 'num_layer': 2, 'activation': <exercise_code.networks.layer.Relu object at 0x0000020CBA5BB940>, 'optimizer': <class 'exercise_code.networks.optimizer.Adam'>, 'loss_func': <exercise_code.networks.loss.CrossEntropyFromLogits object at 0x0000020CBA5BABF0>, 'reg': 3.2801885015627305e-05, 'std': 3.7823030967498084e-05}\n",
      "(Epoch 1 / 100) train loss: 2.302585; val loss: 2.302585\n",
      "(Epoch 2 / 100) train loss: 1.966009; val loss: 1.796397\n",
      "(Epoch 3 / 100) train loss: 1.731373; val loss: 1.718130\n",
      "(Epoch 4 / 100) train loss: 1.665851; val loss: 1.677309\n",
      "(Epoch 5 / 100) train loss: 1.631763; val loss: 1.661129\n",
      "(Epoch 6 / 100) train loss: 1.613762; val loss: 1.651394\n",
      "(Epoch 7 / 100) train loss: 1.604766; val loss: 1.646410\n",
      "(Epoch 8 / 100) train loss: 1.599302; val loss: 1.644646\n",
      "(Epoch 9 / 100) train loss: 1.596973; val loss: 1.643290\n",
      "(Epoch 10 / 100) train loss: 1.595447; val loss: 1.642567\n",
      "(Epoch 11 / 100) train loss: 1.594182; val loss: 1.641752\n",
      "(Epoch 12 / 100) train loss: 1.594116; val loss: 1.641272\n",
      "(Epoch 13 / 100) train loss: 1.594273; val loss: 1.641495\n",
      "(Epoch 14 / 100) train loss: 1.593637; val loss: 1.641440\n",
      "(Epoch 15 / 100) train loss: 1.593404; val loss: 1.640908\n",
      "(Epoch 16 / 100) train loss: 1.593647; val loss: 1.641594\n",
      "(Epoch 17 / 100) train loss: 1.593417; val loss: 1.640765\n",
      "(Epoch 18 / 100) train loss: 1.593607; val loss: 1.642021\n",
      "(Epoch 19 / 100) train loss: 1.593755; val loss: 1.641097\n",
      "(Epoch 20 / 100) train loss: 1.593318; val loss: 1.642347\n",
      "(Epoch 21 / 100) train loss: 1.593502; val loss: 1.641128\n",
      "(Epoch 22 / 100) train loss: 1.593888; val loss: 1.641114\n",
      "(Epoch 23 / 100) train loss: 1.593752; val loss: 1.641038\n",
      "Stopping early at epoch 22!\n",
      "\n",
      "Evaluating Config #2 [of 5]:\n",
      " {'learning_rate': 0.00014519154438792282, 'lr_decay': 0.5479331750456682, 'hidden_size': 67, 'num_layer': 2, 'activation': <exercise_code.networks.layer.Relu object at 0x0000020CBA5BB940>, 'optimizer': <class 'exercise_code.networks.optimizer.Adam'>, 'loss_func': <exercise_code.networks.loss.CrossEntropyFromLogits object at 0x0000020CBA5BABF0>, 'reg': 2.2268901223450704e-06, 'std': 8.34531877650713e-06}\n",
      "(Epoch 1 / 100) train loss: 2.302585; val loss: 2.302585\n",
      "(Epoch 2 / 100) train loss: 2.206339; val loss: 2.094570\n",
      "(Epoch 3 / 100) train loss: 2.048664; val loss: 2.020479\n",
      "(Epoch 4 / 100) train loss: 1.994307; val loss: 1.985941\n",
      "(Epoch 5 / 100) train loss: 1.967644; val loss: 1.968691\n",
      "(Epoch 6 / 100) train loss: 1.953675; val loss: 1.960373\n",
      "(Epoch 7 / 100) train loss: 1.946759; val loss: 1.955915\n",
      "(Epoch 8 / 100) train loss: 1.942433; val loss: 1.953318\n",
      "(Epoch 9 / 100) train loss: 1.940755; val loss: 1.951803\n",
      "(Epoch 10 / 100) train loss: 1.939990; val loss: 1.951426\n",
      "(Epoch 11 / 100) train loss: 1.939392; val loss: 1.950975\n",
      "(Epoch 12 / 100) train loss: 1.938975; val loss: 1.950787\n",
      "(Epoch 13 / 100) train loss: 1.938869; val loss: 1.949999\n",
      "(Epoch 14 / 100) train loss: 1.938751; val loss: 1.950224\n",
      "(Epoch 15 / 100) train loss: 1.938839; val loss: 1.950639\n",
      "(Epoch 16 / 100) train loss: 1.938438; val loss: 1.950100\n",
      "(Epoch 17 / 100) train loss: 1.938769; val loss: 1.950488\n",
      "(Epoch 18 / 100) train loss: 1.938476; val loss: 1.950089\n",
      "(Epoch 19 / 100) train loss: 1.938796; val loss: 1.950139\n",
      "Stopping early at epoch 18!\n",
      "\n",
      "Evaluating Config #3 [of 5]:\n",
      " {'learning_rate': 3.686900264060604e-05, 'lr_decay': 0.6294051061166375, 'hidden_size': 85, 'num_layer': 2, 'activation': <exercise_code.networks.layer.Relu object at 0x0000020CBA5BB940>, 'optimizer': <class 'exercise_code.networks.optimizer.Adam'>, 'loss_func': <exercise_code.networks.loss.CrossEntropyFromLogits object at 0x0000020CBA5BABF0>, 'reg': 6.29709332018225e-05, 'std': 7.099050323301745e-05}\n",
      "(Epoch 1 / 100) train loss: 2.302585; val loss: 2.302585\n",
      "(Epoch 2 / 100) train loss: 2.282608; val loss: 2.229055\n",
      "(Epoch 3 / 100) train loss: 2.185249; val loss: 2.157339\n",
      "(Epoch 4 / 100) train loss: 2.136585; val loss: 2.128126\n",
      "(Epoch 5 / 100) train loss: 2.114097; val loss: 2.113065\n",
      "(Epoch 6 / 100) train loss: 2.101810; val loss: 2.104055\n",
      "(Epoch 7 / 100) train loss: 2.094708; val loss: 2.098661\n",
      "(Epoch 8 / 100) train loss: 2.090233; val loss: 2.095500\n",
      "(Epoch 9 / 100) train loss: 2.087531; val loss: 2.093760\n",
      "(Epoch 10 / 100) train loss: 2.085936; val loss: 2.092401\n",
      "(Epoch 11 / 100) train loss: 2.084897; val loss: 2.091721\n",
      "(Epoch 12 / 100) train loss: 2.084028; val loss: 2.091100\n",
      "(Epoch 13 / 100) train loss: 2.083908; val loss: 2.090722\n",
      "(Epoch 14 / 100) train loss: 2.083565; val loss: 2.090646\n",
      "(Epoch 15 / 100) train loss: 2.083465; val loss: 2.090477\n",
      "(Epoch 16 / 100) train loss: 2.083114; val loss: 2.090297\n",
      "(Epoch 17 / 100) train loss: 2.083289; val loss: 2.090095\n",
      "(Epoch 18 / 100) train loss: 2.083286; val loss: 2.090213\n",
      "(Epoch 19 / 100) train loss: 2.083319; val loss: 2.090513\n",
      "(Epoch 20 / 100) train loss: 2.083040; val loss: 2.090271\n",
      "(Epoch 21 / 100) train loss: 2.083163; val loss: 2.090113\n",
      "(Epoch 22 / 100) train loss: 2.083115; val loss: 2.090262\n",
      "(Epoch 23 / 100) train loss: 2.083293; val loss: 2.090043\n",
      "(Epoch 24 / 100) train loss: 2.083202; val loss: 2.090304\n",
      "(Epoch 25 / 100) train loss: 2.083094; val loss: 2.090006\n",
      "(Epoch 26 / 100) train loss: 2.083064; val loss: 2.090229\n",
      "(Epoch 27 / 100) train loss: 2.083239; val loss: 2.090163\n",
      "(Epoch 28 / 100) train loss: 2.083055; val loss: 2.090089\n",
      "(Epoch 29 / 100) train loss: 2.083067; val loss: 2.090183\n",
      "(Epoch 30 / 100) train loss: 2.083321; val loss: 2.090087\n",
      "(Epoch 31 / 100) train loss: 2.083197; val loss: 2.090000\n",
      "(Epoch 32 / 100) train loss: 2.083004; val loss: 2.090128\n",
      "(Epoch 33 / 100) train loss: 2.083169; val loss: 2.090466\n",
      "(Epoch 34 / 100) train loss: 2.083076; val loss: 2.090209\n",
      "(Epoch 35 / 100) train loss: 2.083128; val loss: 2.089945\n",
      "(Epoch 36 / 100) train loss: 2.083146; val loss: 2.090273\n",
      "(Epoch 37 / 100) train loss: 2.083184; val loss: 2.090415\n",
      "(Epoch 38 / 100) train loss: 2.083035; val loss: 2.090284\n",
      "(Epoch 39 / 100) train loss: 2.083147; val loss: 2.090302\n",
      "(Epoch 40 / 100) train loss: 2.083372; val loss: 2.090524\n",
      "(Epoch 41 / 100) train loss: 2.083150; val loss: 2.090409\n",
      "Stopping early at epoch 40!\n",
      "\n",
      "Evaluating Config #4 [of 5]:\n",
      " {'learning_rate': 0.003567478932037382, 'lr_decay': 0.6881429202374507, 'hidden_size': 74, 'num_layer': 2, 'activation': <exercise_code.networks.layer.Relu object at 0x0000020CBA5BB940>, 'optimizer': <class 'exercise_code.networks.optimizer.Adam'>, 'loss_func': <exercise_code.networks.loss.CrossEntropyFromLogits object at 0x0000020CBA5BABF0>, 'reg': 6.313712387994486e-06, 'std': 1.320059155087714e-05}\n",
      "(Epoch 1 / 100) train loss: 2.302585; val loss: 2.302585\n",
      "(Epoch 2 / 100) train loss: 1.805484; val loss: 1.675356\n",
      "(Epoch 3 / 100) train loss: 1.541685; val loss: 1.570176\n",
      "(Epoch 4 / 100) train loss: 1.424687; val loss: 1.521344\n",
      "(Epoch 5 / 100) train loss: 1.344441; val loss: 1.496594\n",
      "(Epoch 6 / 100) train loss: 1.289905; val loss: 1.484756\n",
      "(Epoch 7 / 100) train loss: 1.250205; val loss: 1.471461\n",
      "(Epoch 8 / 100) train loss: 1.221179; val loss: 1.472671\n",
      "(Epoch 9 / 100) train loss: 1.201697; val loss: 1.465255\n",
      "(Epoch 10 / 100) train loss: 1.187211; val loss: 1.466116\n",
      "(Epoch 11 / 100) train loss: 1.177784; val loss: 1.461366\n",
      "(Epoch 12 / 100) train loss: 1.171224; val loss: 1.461911\n",
      "(Epoch 13 / 100) train loss: 1.166200; val loss: 1.462332\n",
      "(Epoch 14 / 100) train loss: 1.162994; val loss: 1.460333\n",
      "(Epoch 15 / 100) train loss: 1.160970; val loss: 1.459643\n",
      "(Epoch 16 / 100) train loss: 1.159270; val loss: 1.461094\n",
      "(Epoch 17 / 100) train loss: 1.158186; val loss: 1.461168\n",
      "(Epoch 18 / 100) train loss: 1.156858; val loss: 1.461006\n",
      "(Epoch 19 / 100) train loss: 1.156928; val loss: 1.460004\n",
      "(Epoch 20 / 100) train loss: 1.156281; val loss: 1.461107\n",
      "(Epoch 21 / 100) train loss: 1.156075; val loss: 1.460674\n",
      "Stopping early at epoch 20!\n",
      "\n",
      "Evaluating Config #5 [of 5]:\n",
      " {'learning_rate': 0.0001092036489056721, 'lr_decay': 0.8270306577650122, 'hidden_size': 97, 'num_layer': 2, 'activation': <exercise_code.networks.layer.Relu object at 0x0000020CBA5BB940>, 'optimizer': <class 'exercise_code.networks.optimizer.Adam'>, 'loss_func': <exercise_code.networks.loss.CrossEntropyFromLogits object at 0x0000020CBA5BABF0>, 'reg': 9.615225731427392e-05, 'std': 7.92222820587806e-05}\n"
     ]
    },
    {
     "name": "stdout",
     "output_type": "stream",
     "text": [
      "(Epoch 1 / 100) train loss: 2.302585; val loss: 2.302585\n",
      "(Epoch 2 / 100) train loss: 2.167883; val loss: 2.032138\n",
      "(Epoch 3 / 100) train loss: 1.958027; val loss: 1.915278\n",
      "(Epoch 4 / 100) train loss: 1.872219; val loss: 1.859018\n",
      "(Epoch 5 / 100) train loss: 1.825510; val loss: 1.823160\n",
      "(Epoch 6 / 100) train loss: 1.792889; val loss: 1.798258\n",
      "(Epoch 7 / 100) train loss: 1.768211; val loss: 1.780368\n",
      "(Epoch 8 / 100) train loss: 1.750357; val loss: 1.766867\n",
      "(Epoch 9 / 100) train loss: 1.737422; val loss: 1.755255\n",
      "(Epoch 10 / 100) train loss: 1.726629; val loss: 1.747204\n",
      "(Epoch 11 / 100) train loss: 1.718303; val loss: 1.740692\n",
      "(Epoch 12 / 100) train loss: 1.711574; val loss: 1.735461\n",
      "(Epoch 13 / 100) train loss: 1.706239; val loss: 1.730911\n",
      "(Epoch 14 / 100) train loss: 1.701555; val loss: 1.728062\n",
      "(Epoch 15 / 100) train loss: 1.698207; val loss: 1.724973\n",
      "(Epoch 16 / 100) train loss: 1.694966; val loss: 1.722299\n",
      "(Epoch 17 / 100) train loss: 1.692790; val loss: 1.721267\n",
      "(Epoch 18 / 100) train loss: 1.691166; val loss: 1.718991\n",
      "(Epoch 19 / 100) train loss: 1.688940; val loss: 1.717981\n",
      "(Epoch 20 / 100) train loss: 1.687946; val loss: 1.717194\n",
      "(Epoch 21 / 100) train loss: 1.686656; val loss: 1.716439\n",
      "(Epoch 22 / 100) train loss: 1.685755; val loss: 1.716281\n",
      "(Epoch 23 / 100) train loss: 1.685079; val loss: 1.714724\n",
      "(Epoch 24 / 100) train loss: 1.684442; val loss: 1.713737\n",
      "(Epoch 25 / 100) train loss: 1.684168; val loss: 1.714349\n",
      "(Epoch 26 / 100) train loss: 1.683512; val loss: 1.713229\n",
      "(Epoch 27 / 100) train loss: 1.683281; val loss: 1.713772\n",
      "(Epoch 28 / 100) train loss: 1.683157; val loss: 1.713684\n",
      "(Epoch 29 / 100) train loss: 1.682756; val loss: 1.713861\n",
      "(Epoch 30 / 100) train loss: 1.682385; val loss: 1.713563\n",
      "(Epoch 31 / 100) train loss: 1.682249; val loss: 1.712862\n",
      "(Epoch 32 / 100) train loss: 1.682075; val loss: 1.712790\n",
      "(Epoch 33 / 100) train loss: 1.682037; val loss: 1.712256\n",
      "(Epoch 34 / 100) train loss: 1.681620; val loss: 1.713380\n",
      "(Epoch 35 / 100) train loss: 1.681885; val loss: 1.712535\n",
      "(Epoch 36 / 100) train loss: 1.681584; val loss: 1.712782\n",
      "(Epoch 37 / 100) train loss: 1.681845; val loss: 1.713091\n",
      "(Epoch 38 / 100) train loss: 1.681898; val loss: 1.713021\n",
      "(Epoch 39 / 100) train loss: 1.681172; val loss: 1.712904\n",
      "Stopping early at epoch 38!\n",
      "\n",
      "Search done. Best Val Loss = 1.459643054668552\n",
      "Best Config: {'learning_rate': 0.003567478932037382, 'lr_decay': 0.6881429202374507, 'hidden_size': 74, 'num_layer': 2, 'activation': <exercise_code.networks.layer.Relu object at 0x0000020CBA5BB940>, 'optimizer': <class 'exercise_code.networks.optimizer.Adam'>, 'loss_func': <exercise_code.networks.loss.CrossEntropyFromLogits object at 0x0000020CBA5BABF0>, 'reg': 6.313712387994486e-06, 'std': 1.320059155087714e-05}\n"
     ]
    }
   ],
   "source": [
    "from exercise_code.networks import MyOwnNetwork\n",
    "best_model = ClassificationNet()\n",
    "#best_model = MyOwnNetwork()\n",
    "\n",
    "########################################################################\n",
    "# TODO:                                                                #\n",
    "# Implement your own neural network and find suitable hyperparameters  #\n",
    "# Be sure to edit the MyOwnNetwork class in the following code snippet #\n",
    "# to upload the correct model!                                         #\n",
    "########################################################################\n",
    "best_model, results = random_search(dataloaders['train'], dataloaders['val'],\n",
    "                                   random_search_spaces = {\n",
    "                                       \"learning_rate\": ([1e-2, 1e-5], 'log'),\n",
    "                                       \"lr_decay\": ([0.5, 0.9], 'float'),\n",
    "                                       \"hidden_size\": ([60, 100], \"int\"),\n",
    "                                       \"num_layer\": ([2], \"int\"),\n",
    "                                       \"activation\": ([Relu()], \"item\"),\n",
    "                                       \"optimizer\": ([Adam], \"item\"),\n",
    "                                       \"loss_func\": ([CrossEntropyFromLogits()], \"item\"),\n",
    "                                       \"reg\": ([1e-4,1e-6], \"log\"),\n",
    "                                       \"std\": ([1e-4,1e-6], \"log\"),\n",
    "                                   }, num_search = 5, epochs = 100, patience = 6,\n",
    "                                    model_class=ClassificationNet\n",
    "                                   )\n",
    "########################################################################\n",
    "#                           END OF YOUR CODE                           #\n",
    "########################################################################"
   ]
  },
  {
   "cell_type": "markdown",
   "metadata": {},
   "source": [
    "Now it's time to edit the ranges above and adjust them to explore regions that performed well!\n",
    "\n",
    "Also, feel free to experiment around! Also the network architecture, optimizer options and activations functions, etc. are hyperparameters that you can change!\n",
    "\n",
    "Try to get your accuracy as high as possible! That's all what counts for this submission!\n",
    "\n",
    "You'll pass if you reach at least **48%** accuracy on our test set - but there will also be a leaderboard of all students of this course. Will you make it to the top?"
   ]
  },
  {
   "cell_type": "markdown",
   "metadata": {},
   "source": [
    "## 3.5 Checking the validation accuracy"
   ]
  },
  {
   "cell_type": "code",
   "execution_count": 14,
   "metadata": {},
   "outputs": [
    {
     "name": "stdout",
     "output_type": "stream",
     "text": [
      "Train Accuracy: 60.6002938034188%\n",
      "Validation Accuracy: 49.73958333333333%\n"
     ]
    }
   ],
   "source": [
    "labels, pred, acc = best_model.get_dataset_prediction(dataloaders['train'])\n",
    "print(\"Train Accuracy: {}%\".format(acc*100))\n",
    "labels, pred, acc = best_model.get_dataset_prediction(dataloaders['val'])\n",
    "print(\"Validation Accuracy: {}%\".format(acc*100))"
   ]
  },
  {
   "cell_type": "markdown",
   "metadata": {},
   "source": [
    "# 4. Test your model\n",
    "When you have finished your hyperparameter tuning and are sure you have your final model that performs well on the validation set (**you should at least get 48% accuracy on the validation set!**), it's time to run your  model on the test set.\n",
    "\n",
    "<div class=\"alert alert-danger\">\n",
    "    <h3>Important</h3>\n",
    "    <p>As you have learned in the lecture, you must only use the test set one single time! So only run the next cell if you are really sure your model works well enough and that you want to submit. Your test set is different from the test set on our server, so results may vary. Nevertheless, you will have a reasonable close approximation about your performance if you only do a final evaluation on the test set.</p>\n",
    "    <p>If you are an external student that can't use our submission webpage: this test performance is your final result and if you surpassed the threshold, you have completed this exercise :). Now, train again to aim for a better number!</p>\n",
    "</div>"
   ]
  },
  {
   "cell_type": "code",
   "execution_count": 15,
   "metadata": {},
   "outputs": [
    {
     "name": "stdout",
     "output_type": "stream",
     "text": [
      "Test Accuracy: 49.919871794871796%\n"
     ]
    }
   ],
   "source": [
    "# comment this part out to see your model's performance on the test set.\n",
    "labels, pred, acc = best_model.get_dataset_prediction(dataloaders['test'])\n",
    "print(\"Test Accuracy: {}%\".format(acc*100))\n"
   ]
  },
  {
   "cell_type": "markdown",
   "metadata": {},
   "source": [
    "<div class=\"alert alert-warning\">\n",
    "    <h3>Note:</h3>\n",
    "    <p>The \"real\" test set is actually the dataset we're using for testing your model, which is <b>different</b> from the test-set you're using here.</p>\n",
    "</div>"
   ]
  },
  {
   "cell_type": "markdown",
   "metadata": {},
   "source": [
    "# 5. Saving your Model"
   ]
  },
  {
   "cell_type": "code",
   "execution_count": 16,
   "metadata": {},
   "outputs": [],
   "source": [
    "from exercise_code.tests import save_pickle\n",
    "save_pickle({\"cifar_fcn\": best_model}, \"cifar_fcn.p\")"
   ]
  },
  {
   "cell_type": "code",
   "execution_count": 17,
   "metadata": {},
   "outputs": [
    {
     "name": "stdout",
     "output_type": "stream",
     "text": [
      "relevant folders: ['exercise_code', 'models']\n",
      "notebooks files: ['1.cifar10_classification.ipynb']\n",
      "Adding folder exercise_code\n",
      "Adding folder models\n",
      "Adding notebook 1.cifar10_classification.ipynb\n",
      "Zipping successful! Zip is stored under: C:\\Users\\LENOVO\\Downloads\\Sem 2\\I2DL\\exercise_06\\exercise_06_cleaned\\exercise06.zip\n"
     ]
    }
   ],
   "source": [
    "from exercise_code.submit import submit_exercise\n",
    "\n",
    "submit_exercise('exercise06')"
   ]
  },
  {
   "cell_type": "markdown",
   "metadata": {},
   "source": [
    "# 6. Submission Instructions\n",
    "\n",
    "Congratulations! You've just built your first image classifier! To complete the exercise, submit your final model to our submission portal - you probably know the procedure by now.\n",
    "\n",
    "1. Go on [our submission page](https://i2dl.vc.in.tum.de/), register for an account and login. We use your matriculation number and send an email with the login details to the mail account associated. When in doubt, login into tum-online and check your mails there. You will get an id which we need in the next step.\n",
    "2. Log into [our submission page](https://i2dl.vc.in.tum.de/) with your account details and upload the zip file.\n",
    "3. Your submission will be evaluated by our system and you will get feedback about the performance of it. You will get an email with your score as well as a message if you have surpassed the threshold.\n",
    "4. Within the working period, you can submit as many solutions as you want to get the best possible score.\n",
    "\n",
    "\n",
    "# 7. Submission Goals\n",
    "\n",
    "- Goal: Successfully implement a fully connected NN image classifier, tune hyperparameters.\n",
    "\n",
    "- Passing Criteria: This time, there are no unit tests that check specific components of your code. The only thing that's required to pass the submission, is your model to reach at least **48% accuracy** on __our__ test dataset. The submission system will show you a number between 0 and 100 which corresponds to your accuracy.\n",
    "\n",
    "- Submission start: __Nov 25, 2021 13:00:00__\n",
    "- Submission deadline : __Dec 01, 2021 15:59:59__ \n",
    "- You can make **$\\infty$** submissions until the deadline. Your __best submission__ will be considered for bonus"
   ]
  },
  {
   "cell_type": "code",
   "execution_count": null,
   "metadata": {},
   "outputs": [],
   "source": []
  }
 ],
 "metadata": {
  "kernelspec": {
   "display_name": "Python 3 (ipykernel)",
   "language": "python",
   "name": "python3"
  },
  "language_info": {
   "codemirror_mode": {
    "name": "ipython",
    "version": 3
   },
   "file_extension": ".py",
   "mimetype": "text/x-python",
   "name": "python",
   "nbconvert_exporter": "python",
   "pygments_lexer": "ipython3",
   "version": "3.10.0"
  }
 },
 "nbformat": 4,
 "nbformat_minor": 1
}
